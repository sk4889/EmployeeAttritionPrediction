{
 "cells": [
  {
   "cell_type": "code",
   "execution_count": 860,
   "id": "eca16b21",
   "metadata": {},
   "outputs": [],
   "source": [
    "import numpy as np # linear algebra\n",
    "import pandas as pd # data processing, CSV file I/O (e.g. pd.read_csv)\n",
    "import matplotlib.pyplot as plt\n",
    "import seaborn as sns"
   ]
  },
  {
   "cell_type": "code",
   "execution_count": 861,
   "id": "9d8f7893",
   "metadata": {},
   "outputs": [
    {
     "data": {
      "text/html": [
       "<div>\n",
       "<style scoped>\n",
       "    .dataframe tbody tr th:only-of-type {\n",
       "        vertical-align: middle;\n",
       "    }\n",
       "\n",
       "    .dataframe tbody tr th {\n",
       "        vertical-align: top;\n",
       "    }\n",
       "\n",
       "    .dataframe thead th {\n",
       "        text-align: right;\n",
       "    }\n",
       "</style>\n",
       "<table border=\"1\" class=\"dataframe\">\n",
       "  <thead>\n",
       "    <tr style=\"text-align: right;\">\n",
       "      <th></th>\n",
       "      <th>EmployeeID</th>\n",
       "      <th>Attrition</th>\n",
       "      <th>Age</th>\n",
       "      <th>TravelProfile</th>\n",
       "      <th>Department</th>\n",
       "      <th>HomeToWork</th>\n",
       "      <th>EducationField</th>\n",
       "      <th>Gender</th>\n",
       "      <th>HourlnWeek</th>\n",
       "      <th>Involvement</th>\n",
       "      <th>...</th>\n",
       "      <th>JobSatisfaction</th>\n",
       "      <th>ESOPs</th>\n",
       "      <th>NumCompaniesWorked</th>\n",
       "      <th>OverTime</th>\n",
       "      <th>SalaryHikelastYear</th>\n",
       "      <th>WorkExperience</th>\n",
       "      <th>LastPromotion</th>\n",
       "      <th>CurrentProfile</th>\n",
       "      <th>MaritalStatus</th>\n",
       "      <th>MonthlyIncome</th>\n",
       "    </tr>\n",
       "  </thead>\n",
       "  <tbody>\n",
       "    <tr>\n",
       "      <th>0</th>\n",
       "      <td>5110001</td>\n",
       "      <td>0</td>\n",
       "      <td>35.0</td>\n",
       "      <td>Rarely</td>\n",
       "      <td>Analytics</td>\n",
       "      <td>5.0</td>\n",
       "      <td>CA</td>\n",
       "      <td>Male</td>\n",
       "      <td>69.0</td>\n",
       "      <td>1</td>\n",
       "      <td>...</td>\n",
       "      <td>1</td>\n",
       "      <td>1</td>\n",
       "      <td>1</td>\n",
       "      <td>1</td>\n",
       "      <td>20.0</td>\n",
       "      <td>7.0</td>\n",
       "      <td>2.0</td>\n",
       "      <td>NaN</td>\n",
       "      <td>M</td>\n",
       "      <td>18932.0</td>\n",
       "    </tr>\n",
       "    <tr>\n",
       "      <th>1</th>\n",
       "      <td>5110002</td>\n",
       "      <td>1</td>\n",
       "      <td>32.0</td>\n",
       "      <td>Yes</td>\n",
       "      <td>Sales</td>\n",
       "      <td>5.0</td>\n",
       "      <td>Statistics</td>\n",
       "      <td>Female</td>\n",
       "      <td>62.0</td>\n",
       "      <td>4</td>\n",
       "      <td>...</td>\n",
       "      <td>2</td>\n",
       "      <td>0</td>\n",
       "      <td>8</td>\n",
       "      <td>0</td>\n",
       "      <td>20.0</td>\n",
       "      <td>4.0</td>\n",
       "      <td>1.0</td>\n",
       "      <td>NaN</td>\n",
       "      <td>Single</td>\n",
       "      <td>18785.0</td>\n",
       "    </tr>\n",
       "    <tr>\n",
       "      <th>2</th>\n",
       "      <td>5110003</td>\n",
       "      <td>0</td>\n",
       "      <td>31.0</td>\n",
       "      <td>Rarely</td>\n",
       "      <td>Analytics</td>\n",
       "      <td>5.0</td>\n",
       "      <td>Statistics</td>\n",
       "      <td>F</td>\n",
       "      <td>45.0</td>\n",
       "      <td>5</td>\n",
       "      <td>...</td>\n",
       "      <td>2</td>\n",
       "      <td>1</td>\n",
       "      <td>3</td>\n",
       "      <td>0</td>\n",
       "      <td>26.0</td>\n",
       "      <td>12.0</td>\n",
       "      <td>1.0</td>\n",
       "      <td>3.0</td>\n",
       "      <td>Single</td>\n",
       "      <td>22091.0</td>\n",
       "    </tr>\n",
       "    <tr>\n",
       "      <th>3</th>\n",
       "      <td>5110004</td>\n",
       "      <td>0</td>\n",
       "      <td>34.0</td>\n",
       "      <td>Yes</td>\n",
       "      <td>Sales</td>\n",
       "      <td>10.0</td>\n",
       "      <td>Statistics</td>\n",
       "      <td>Female</td>\n",
       "      <td>32.0</td>\n",
       "      <td>3</td>\n",
       "      <td>...</td>\n",
       "      <td>4</td>\n",
       "      <td>1</td>\n",
       "      <td>1</td>\n",
       "      <td>0</td>\n",
       "      <td>23.0</td>\n",
       "      <td>5.0</td>\n",
       "      <td>1.0</td>\n",
       "      <td>3.0</td>\n",
       "      <td>Divorsed</td>\n",
       "      <td>20302.0</td>\n",
       "    </tr>\n",
       "    <tr>\n",
       "      <th>4</th>\n",
       "      <td>5110005</td>\n",
       "      <td>0</td>\n",
       "      <td>37.0</td>\n",
       "      <td>No</td>\n",
       "      <td>Analytics</td>\n",
       "      <td>27.0</td>\n",
       "      <td>Statistics</td>\n",
       "      <td>Female</td>\n",
       "      <td>49.0</td>\n",
       "      <td>3</td>\n",
       "      <td>...</td>\n",
       "      <td>4</td>\n",
       "      <td>1</td>\n",
       "      <td>8</td>\n",
       "      <td>0</td>\n",
       "      <td>21.0</td>\n",
       "      <td>12.0</td>\n",
       "      <td>1.0</td>\n",
       "      <td>9.0</td>\n",
       "      <td>Divorsed</td>\n",
       "      <td>21674.0</td>\n",
       "    </tr>\n",
       "  </tbody>\n",
       "</table>\n",
       "<p>5 rows × 22 columns</p>\n",
       "</div>"
      ],
      "text/plain": [
       "   EmployeeID  Attrition   Age TravelProfile Department  HomeToWork  \\\n",
       "0     5110001          0  35.0        Rarely  Analytics         5.0   \n",
       "1     5110002          1  32.0           Yes      Sales         5.0   \n",
       "2     5110003          0  31.0        Rarely  Analytics         5.0   \n",
       "3     5110004          0  34.0           Yes      Sales        10.0   \n",
       "4     5110005          0  37.0            No  Analytics        27.0   \n",
       "\n",
       "  EducationField  Gender  HourlnWeek  Involvement  ...  JobSatisfaction ESOPs  \\\n",
       "0             CA    Male        69.0            1  ...                1     1   \n",
       "1     Statistics  Female        62.0            4  ...                2     0   \n",
       "2     Statistics       F        45.0            5  ...                2     1   \n",
       "3     Statistics  Female        32.0            3  ...                4     1   \n",
       "4     Statistics  Female        49.0            3  ...                4     1   \n",
       "\n",
       "   NumCompaniesWorked  OverTime  SalaryHikelastYear  WorkExperience  \\\n",
       "0                   1         1                20.0             7.0   \n",
       "1                   8         0                20.0             4.0   \n",
       "2                   3         0                26.0            12.0   \n",
       "3                   1         0                23.0             5.0   \n",
       "4                   8         0                21.0            12.0   \n",
       "\n",
       "   LastPromotion  CurrentProfile  MaritalStatus  MonthlyIncome  \n",
       "0            2.0             NaN              M        18932.0  \n",
       "1            1.0             NaN         Single        18785.0  \n",
       "2            1.0             3.0         Single        22091.0  \n",
       "3            1.0             3.0       Divorsed        20302.0  \n",
       "4            1.0             9.0       Divorsed        21674.0  \n",
       "\n",
       "[5 rows x 22 columns]"
      ]
     },
     "execution_count": 861,
     "metadata": {},
     "output_type": "execute_result"
    }
   ],
   "source": [
    "# load the csv file\n",
    "df_employee = pd.read_csv('Train_Dataset.csv')\n",
    "\n",
    "# display the first five observations\n",
    "df_employee.head()"
   ]
  },
  {
   "cell_type": "code",
   "execution_count": 862,
   "id": "2a5efcdc",
   "metadata": {},
   "outputs": [
    {
     "data": {
      "text/plain": [
       "(5180, 22)"
      ]
     },
     "execution_count": 862,
     "metadata": {},
     "output_type": "execute_result"
    }
   ],
   "source": [
    "# type your code here\n",
    "df_employee.shape"
   ]
  },
  {
   "cell_type": "code",
   "execution_count": 863,
   "id": "c336f44c",
   "metadata": {},
   "outputs": [
    {
     "data": {
      "text/html": [
       "<div>\n",
       "<style scoped>\n",
       "    .dataframe tbody tr th:only-of-type {\n",
       "        vertical-align: middle;\n",
       "    }\n",
       "\n",
       "    .dataframe tbody tr th {\n",
       "        vertical-align: top;\n",
       "    }\n",
       "\n",
       "    .dataframe thead th {\n",
       "        text-align: right;\n",
       "    }\n",
       "</style>\n",
       "<table border=\"1\" class=\"dataframe\">\n",
       "  <thead>\n",
       "    <tr style=\"text-align: right;\">\n",
       "      <th></th>\n",
       "      <th>EmployeeID</th>\n",
       "      <th>Attrition</th>\n",
       "      <th>Age</th>\n",
       "      <th>HomeToWork</th>\n",
       "      <th>HourlnWeek</th>\n",
       "      <th>Involvement</th>\n",
       "      <th>WorkLifeBalance</th>\n",
       "      <th>JobSatisfaction</th>\n",
       "      <th>ESOPs</th>\n",
       "      <th>NumCompaniesWorked</th>\n",
       "      <th>OverTime</th>\n",
       "      <th>SalaryHikelastYear</th>\n",
       "      <th>WorkExperience</th>\n",
       "      <th>LastPromotion</th>\n",
       "      <th>CurrentProfile</th>\n",
       "      <th>MonthlyIncome</th>\n",
       "    </tr>\n",
       "  </thead>\n",
       "  <tbody>\n",
       "    <tr>\n",
       "      <th>count</th>\n",
       "      <td>5.180000e+03</td>\n",
       "      <td>5180.000000</td>\n",
       "      <td>4864.000000</td>\n",
       "      <td>4925.000000</td>\n",
       "      <td>4893.000000</td>\n",
       "      <td>5180.000000</td>\n",
       "      <td>5180.000000</td>\n",
       "      <td>5180.000000</td>\n",
       "      <td>5180.000000</td>\n",
       "      <td>5180.000000</td>\n",
       "      <td>5180.000000</td>\n",
       "      <td>5011.000000</td>\n",
       "      <td>4993.000000</td>\n",
       "      <td>5110.000000</td>\n",
       "      <td>4869.000000</td>\n",
       "      <td>5087.000000</td>\n",
       "    </tr>\n",
       "    <tr>\n",
       "      <th>mean</th>\n",
       "      <td>5.112590e+06</td>\n",
       "      <td>0.278958</td>\n",
       "      <td>37.108553</td>\n",
       "      <td>11.107411</td>\n",
       "      <td>57.979767</td>\n",
       "      <td>3.226641</td>\n",
       "      <td>3.012741</td>\n",
       "      <td>3.144402</td>\n",
       "      <td>0.490541</td>\n",
       "      <td>3.157336</td>\n",
       "      <td>0.313514</td>\n",
       "      <td>20.649371</td>\n",
       "      <td>11.165832</td>\n",
       "      <td>2.552838</td>\n",
       "      <td>4.385295</td>\n",
       "      <td>21692.296442</td>\n",
       "    </tr>\n",
       "    <tr>\n",
       "      <th>std</th>\n",
       "      <td>1.495482e+03</td>\n",
       "      <td>0.448530</td>\n",
       "      <td>9.248647</td>\n",
       "      <td>8.455577</td>\n",
       "      <td>12.996674</td>\n",
       "      <td>0.872431</td>\n",
       "      <td>1.410602</td>\n",
       "      <td>1.342776</td>\n",
       "      <td>0.499959</td>\n",
       "      <td>2.606036</td>\n",
       "      <td>0.463966</td>\n",
       "      <td>3.706469</td>\n",
       "      <td>7.797783</td>\n",
       "      <td>3.234467</td>\n",
       "      <td>3.617643</td>\n",
       "      <td>4770.637922</td>\n",
       "    </tr>\n",
       "    <tr>\n",
       "      <th>min</th>\n",
       "      <td>5.110001e+06</td>\n",
       "      <td>0.000000</td>\n",
       "      <td>18.000000</td>\n",
       "      <td>1.000000</td>\n",
       "      <td>10.000000</td>\n",
       "      <td>1.000000</td>\n",
       "      <td>1.000000</td>\n",
       "      <td>1.000000</td>\n",
       "      <td>0.000000</td>\n",
       "      <td>0.000000</td>\n",
       "      <td>0.000000</td>\n",
       "      <td>16.000000</td>\n",
       "      <td>0.000000</td>\n",
       "      <td>0.000000</td>\n",
       "      <td>0.000000</td>\n",
       "      <td>1000.000000</td>\n",
       "    </tr>\n",
       "    <tr>\n",
       "      <th>25%</th>\n",
       "      <td>5.111296e+06</td>\n",
       "      <td>0.000000</td>\n",
       "      <td>30.000000</td>\n",
       "      <td>5.000000</td>\n",
       "      <td>49.000000</td>\n",
       "      <td>3.000000</td>\n",
       "      <td>2.000000</td>\n",
       "      <td>2.000000</td>\n",
       "      <td>0.000000</td>\n",
       "      <td>1.000000</td>\n",
       "      <td>0.000000</td>\n",
       "      <td>18.000000</td>\n",
       "      <td>6.000000</td>\n",
       "      <td>1.000000</td>\n",
       "      <td>2.000000</td>\n",
       "      <td>18362.000000</td>\n",
       "    </tr>\n",
       "    <tr>\n",
       "      <th>50%</th>\n",
       "      <td>5.112590e+06</td>\n",
       "      <td>0.000000</td>\n",
       "      <td>36.000000</td>\n",
       "      <td>9.000000</td>\n",
       "      <td>59.000000</td>\n",
       "      <td>3.000000</td>\n",
       "      <td>3.000000</td>\n",
       "      <td>3.000000</td>\n",
       "      <td>0.000000</td>\n",
       "      <td>2.000000</td>\n",
       "      <td>0.000000</td>\n",
       "      <td>20.000000</td>\n",
       "      <td>9.000000</td>\n",
       "      <td>1.000000</td>\n",
       "      <td>3.000000</td>\n",
       "      <td>20160.000000</td>\n",
       "    </tr>\n",
       "    <tr>\n",
       "      <th>75%</th>\n",
       "      <td>5.113885e+06</td>\n",
       "      <td>1.000000</td>\n",
       "      <td>43.000000</td>\n",
       "      <td>16.000000</td>\n",
       "      <td>67.000000</td>\n",
       "      <td>4.000000</td>\n",
       "      <td>4.000000</td>\n",
       "      <td>4.000000</td>\n",
       "      <td>1.000000</td>\n",
       "      <td>5.000000</td>\n",
       "      <td>1.000000</td>\n",
       "      <td>23.000000</td>\n",
       "      <td>15.000000</td>\n",
       "      <td>3.000000</td>\n",
       "      <td>7.000000</td>\n",
       "      <td>23443.500000</td>\n",
       "    </tr>\n",
       "    <tr>\n",
       "      <th>max</th>\n",
       "      <td>5.115180e+06</td>\n",
       "      <td>1.000000</td>\n",
       "      <td>61.000000</td>\n",
       "      <td>121.000000</td>\n",
       "      <td>99.000000</td>\n",
       "      <td>5.000000</td>\n",
       "      <td>5.000000</td>\n",
       "      <td>5.000000</td>\n",
       "      <td>1.000000</td>\n",
       "      <td>21.000000</td>\n",
       "      <td>1.000000</td>\n",
       "      <td>31.000000</td>\n",
       "      <td>41.000000</td>\n",
       "      <td>16.000000</td>\n",
       "      <td>18.000000</td>\n",
       "      <td>95000.000000</td>\n",
       "    </tr>\n",
       "  </tbody>\n",
       "</table>\n",
       "</div>"
      ],
      "text/plain": [
       "         EmployeeID    Attrition          Age   HomeToWork   HourlnWeek  \\\n",
       "count  5.180000e+03  5180.000000  4864.000000  4925.000000  4893.000000   \n",
       "mean   5.112590e+06     0.278958    37.108553    11.107411    57.979767   \n",
       "std    1.495482e+03     0.448530     9.248647     8.455577    12.996674   \n",
       "min    5.110001e+06     0.000000    18.000000     1.000000    10.000000   \n",
       "25%    5.111296e+06     0.000000    30.000000     5.000000    49.000000   \n",
       "50%    5.112590e+06     0.000000    36.000000     9.000000    59.000000   \n",
       "75%    5.113885e+06     1.000000    43.000000    16.000000    67.000000   \n",
       "max    5.115180e+06     1.000000    61.000000   121.000000    99.000000   \n",
       "\n",
       "       Involvement  WorkLifeBalance  JobSatisfaction        ESOPs  \\\n",
       "count  5180.000000      5180.000000      5180.000000  5180.000000   \n",
       "mean      3.226641         3.012741         3.144402     0.490541   \n",
       "std       0.872431         1.410602         1.342776     0.499959   \n",
       "min       1.000000         1.000000         1.000000     0.000000   \n",
       "25%       3.000000         2.000000         2.000000     0.000000   \n",
       "50%       3.000000         3.000000         3.000000     0.000000   \n",
       "75%       4.000000         4.000000         4.000000     1.000000   \n",
       "max       5.000000         5.000000         5.000000     1.000000   \n",
       "\n",
       "       NumCompaniesWorked     OverTime  SalaryHikelastYear  WorkExperience  \\\n",
       "count         5180.000000  5180.000000         5011.000000     4993.000000   \n",
       "mean             3.157336     0.313514           20.649371       11.165832   \n",
       "std              2.606036     0.463966            3.706469        7.797783   \n",
       "min              0.000000     0.000000           16.000000        0.000000   \n",
       "25%              1.000000     0.000000           18.000000        6.000000   \n",
       "50%              2.000000     0.000000           20.000000        9.000000   \n",
       "75%              5.000000     1.000000           23.000000       15.000000   \n",
       "max             21.000000     1.000000           31.000000       41.000000   \n",
       "\n",
       "       LastPromotion  CurrentProfile  MonthlyIncome  \n",
       "count    5110.000000     4869.000000    5087.000000  \n",
       "mean        2.552838        4.385295   21692.296442  \n",
       "std         3.234467        3.617643    4770.637922  \n",
       "min         0.000000        0.000000    1000.000000  \n",
       "25%         1.000000        2.000000   18362.000000  \n",
       "50%         1.000000        3.000000   20160.000000  \n",
       "75%         3.000000        7.000000   23443.500000  \n",
       "max        16.000000       18.000000   95000.000000  "
      ]
     },
     "execution_count": 863,
     "metadata": {},
     "output_type": "execute_result"
    }
   ],
   "source": [
    "df_employee.describe()"
   ]
  },
  {
   "cell_type": "code",
   "execution_count": 864,
   "id": "ec45f7a9",
   "metadata": {
    "scrolled": true
   },
   "outputs": [
    {
     "data": {
      "text/plain": [
       "EmployeeID              int64\n",
       "Attrition               int64\n",
       "Age                   float64\n",
       "TravelProfile          object\n",
       "Department             object\n",
       "HomeToWork            float64\n",
       "EducationField         object\n",
       "Gender                 object\n",
       "HourlnWeek            float64\n",
       "Involvement             int64\n",
       "WorkLifeBalance         int64\n",
       "Designation            object\n",
       "JobSatisfaction         int64\n",
       "ESOPs                   int64\n",
       "NumCompaniesWorked      int64\n",
       "OverTime                int64\n",
       "SalaryHikelastYear    float64\n",
       "WorkExperience        float64\n",
       "LastPromotion         float64\n",
       "CurrentProfile        float64\n",
       "MaritalStatus          object\n",
       "MonthlyIncome         float64\n",
       "dtype: object"
      ]
     },
     "execution_count": 864,
     "metadata": {},
     "output_type": "execute_result"
    }
   ],
   "source": [
    "df_employee.dtypes"
   ]
  },
  {
   "cell_type": "code",
   "execution_count": 865,
   "id": "d768de49",
   "metadata": {},
   "outputs": [
    {
     "data": {
      "text/plain": [
       "EmployeeID              0\n",
       "Attrition               0\n",
       "Age                   316\n",
       "TravelProfile           0\n",
       "Department            124\n",
       "HomeToWork            255\n",
       "EducationField          0\n",
       "Gender                 46\n",
       "HourlnWeek            287\n",
       "Involvement             0\n",
       "WorkLifeBalance         0\n",
       "Designation            38\n",
       "JobSatisfaction         0\n",
       "ESOPs                   0\n",
       "NumCompaniesWorked      0\n",
       "OverTime                0\n",
       "SalaryHikelastYear    169\n",
       "WorkExperience        187\n",
       "LastPromotion          70\n",
       "CurrentProfile        311\n",
       "MaritalStatus           0\n",
       "MonthlyIncome          93\n",
       "dtype: int64"
      ]
     },
     "execution_count": 865,
     "metadata": {},
     "output_type": "execute_result"
    }
   ],
   "source": [
    "df_employee.isna().sum()"
   ]
  },
  {
   "cell_type": "code",
   "execution_count": 866,
   "id": "caa6ab0e",
   "metadata": {},
   "outputs": [
    {
     "name": "stderr",
     "output_type": "stream",
     "text": [
      "C:\\Users\\Anaconda\\envs\\py3.7.5\\lib\\site-packages\\seaborn\\_decorators.py:43: FutureWarning: Pass the following variable as a keyword arg: x. From version 0.12, the only valid positional argument will be `data`, and passing other arguments without an explicit keyword will result in an error or misinterpretation.\n",
      "  FutureWarning\n"
     ]
    },
    {
     "data": {
      "text/plain": [
       "<AxesSubplot:xlabel='Age'>"
      ]
     },
     "execution_count": 866,
     "metadata": {},
     "output_type": "execute_result"
    },
    {
     "data": {
      "image/png": "[encoded data removed]",
      "text/plain": [
       "<Figure size 432x288 with 1 Axes>"
      ]
     },
     "metadata": {
      "needs_background": "light"
     },
     "output_type": "display_data"
    }
   ],
   "source": [
    "sns.boxplot(df_employee['Age'])"
   ]
  },
  {
   "cell_type": "code",
   "execution_count": 867,
   "id": "85ec7b28",
   "metadata": {},
   "outputs": [
    {
     "data": {
      "text/plain": [
       "<AxesSubplot:>"
      ]
     },
     "execution_count": 867,
     "metadata": {},
     "output_type": "execute_result"
    },
    {
     "data": {
      "image/png": "[encoded data removed]",
      "text/plain": [
       "<Figure size 432x288 with 1 Axes>"
      ]
     },
     "metadata": {
      "needs_background": "light"
     },
     "output_type": "display_data"
    }
   ],
   "source": [
    "df_employee['Age'].hist()"
   ]
  },
  {
   "cell_type": "markdown",
   "id": "1d25701e",
   "metadata": {},
   "source": [
    "let's impute with mean"
   ]
  },
  {
   "cell_type": "code",
   "execution_count": 868,
   "id": "ab3cfae7",
   "metadata": {},
   "outputs": [],
   "source": [
    "df_employee['Age'].fillna(df_employee['Age'].mean(),inplace=True)"
   ]
  },
  {
   "cell_type": "code",
   "execution_count": 869,
   "id": "7a3b4903",
   "metadata": {},
   "outputs": [
    {
     "data": {
      "text/plain": [
       "37.10855263157871"
      ]
     },
     "execution_count": 869,
     "metadata": {},
     "output_type": "execute_result"
    }
   ],
   "source": [
    "df_employee['Age'].mean()"
   ]
  },
  {
   "cell_type": "code",
   "execution_count": 870,
   "id": "756d6e41",
   "metadata": {},
   "outputs": [
    {
     "data": {
      "text/plain": [
       "array(['Analytics', 'Sales', 'Marketing', nan], dtype=object)"
      ]
     },
     "execution_count": 870,
     "metadata": {},
     "output_type": "execute_result"
    }
   ],
   "source": [
    "df_employee['Department'].unique()"
   ]
  },
  {
   "cell_type": "code",
   "execution_count": 871,
   "id": "19a11af4",
   "metadata": {},
   "outputs": [
    {
     "data": {
      "text/plain": [
       "'Analytics'"
      ]
     },
     "execution_count": 871,
     "metadata": {},
     "output_type": "execute_result"
    }
   ],
   "source": [
    "df_employee['Department'].value_counts().index[0]"
   ]
  },
  {
   "cell_type": "code",
   "execution_count": 872,
   "id": "f885af2d",
   "metadata": {},
   "outputs": [],
   "source": [
    "df_employee['Department'].fillna(df_employee['Department'].value_counts().index[0],inplace=True)"
   ]
  },
  {
   "cell_type": "code",
   "execution_count": 873,
   "id": "e816761c",
   "metadata": {},
   "outputs": [
    {
     "data": {
      "text/plain": [
       "Analytics    3343\n",
       "Sales        1615\n",
       "Marketing     222\n",
       "Name: Department, dtype: int64"
      ]
     },
     "execution_count": 873,
     "metadata": {},
     "output_type": "execute_result"
    }
   ],
   "source": [
    "df_employee['Department'].value_counts()"
   ]
  },
  {
   "cell_type": "code",
   "execution_count": 874,
   "id": "9e214d4c",
   "metadata": {},
   "outputs": [
    {
     "data": {
      "text/plain": [
       "11.10741116751269"
      ]
     },
     "execution_count": 874,
     "metadata": {},
     "output_type": "execute_result"
    }
   ],
   "source": [
    "df_employee['HomeToWork'].mean()"
   ]
  },
  {
   "cell_type": "code",
   "execution_count": 875,
   "id": "9f9dfc1d",
   "metadata": {},
   "outputs": [
    {
     "data": {
      "text/plain": [
       "<AxesSubplot:>"
      ]
     },
     "execution_count": 875,
     "metadata": {},
     "output_type": "execute_result"
    },
    {
     "data": {
      "image/png": "[encoded data removed]",
      "text/plain": [
       "<Figure size 432x288 with 1 Axes>"
      ]
     },
     "metadata": {
      "needs_background": "light"
     },
     "output_type": "display_data"
    }
   ],
   "source": [
    "df_employee['HomeToWork'].hist()"
   ]
  },
  {
   "cell_type": "code",
   "execution_count": 876,
   "id": "5c2c7611",
   "metadata": {},
   "outputs": [
    {
     "name": "stderr",
     "output_type": "stream",
     "text": [
      "C:\\Users\\Anaconda\\envs\\py3.7.5\\lib\\site-packages\\seaborn\\_decorators.py:43: FutureWarning: Pass the following variable as a keyword arg: x. From version 0.12, the only valid positional argument will be `data`, and passing other arguments without an explicit keyword will result in an error or misinterpretation.\n",
      "  FutureWarning\n"
     ]
    },
    {
     "data": {
      "text/plain": [
       "<AxesSubplot:xlabel='HomeToWork'>"
      ]
     },
     "execution_count": 876,
     "metadata": {},
     "output_type": "execute_result"
    },
    {
     "data": {
      "image/png": "[encoded data removed]",
      "text/plain": [
       "<Figure size 432x288 with 1 Axes>"
      ]
     },
     "metadata": {
      "needs_background": "light"
     },
     "output_type": "display_data"
    }
   ],
   "source": [
    "sns.boxplot(df_employee['HomeToWork'])"
   ]
  },
  {
   "cell_type": "code",
   "execution_count": 877,
   "id": "897014c9",
   "metadata": {},
   "outputs": [
    {
     "data": {
      "text/plain": [
       "1.269843273894574"
      ]
     },
     "execution_count": 877,
     "metadata": {},
     "output_type": "execute_result"
    }
   ],
   "source": [
    "df_employee['HomeToWork'].skew()"
   ]
  },
  {
   "cell_type": "markdown",
   "id": "63f8816a",
   "metadata": {},
   "source": [
    "this data is rightly skewed, so let's impute with mean"
   ]
  },
  {
   "cell_type": "code",
   "execution_count": 878,
   "id": "de311766",
   "metadata": {},
   "outputs": [
    {
     "data": {
      "text/plain": [
       "9.0"
      ]
     },
     "execution_count": 878,
     "metadata": {},
     "output_type": "execute_result"
    }
   ],
   "source": [
    "df_employee['HomeToWork'].median()"
   ]
  },
  {
   "cell_type": "code",
   "execution_count": 879,
   "id": "b6dbc44e",
   "metadata": {},
   "outputs": [],
   "source": [
    "df_employee['HomeToWork'].fillna(df_employee['HomeToWork'].median(),inplace=True)"
   ]
  },
  {
   "cell_type": "code",
   "execution_count": 880,
   "id": "6face64c",
   "metadata": {},
   "outputs": [
    {
     "data": {
      "text/plain": [
       "array(['Male', 'Female', 'F', nan], dtype=object)"
      ]
     },
     "execution_count": 880,
     "metadata": {},
     "output_type": "execute_result"
    }
   ],
   "source": [
    "df_employee['Gender'].unique()"
   ]
  },
  {
   "cell_type": "code",
   "execution_count": 881,
   "id": "ef064993",
   "metadata": {},
   "outputs": [],
   "source": [
    "df_employee['Gender'].replace('Male','M',inplace=True)"
   ]
  },
  {
   "cell_type": "code",
   "execution_count": 882,
   "id": "4875d078",
   "metadata": {},
   "outputs": [],
   "source": [
    "df_employee['Gender'].replace('Female','F',inplace=True)"
   ]
  },
  {
   "cell_type": "code",
   "execution_count": 883,
   "id": "a4d6f95f",
   "metadata": {},
   "outputs": [
    {
     "data": {
      "text/plain": [
       "M    3094\n",
       "F    2040\n",
       "Name: Gender, dtype: int64"
      ]
     },
     "execution_count": 883,
     "metadata": {},
     "output_type": "execute_result"
    }
   ],
   "source": [
    "df_employee['Gender'].value_counts()"
   ]
  },
  {
   "cell_type": "code",
   "execution_count": 884,
   "id": "5618a895",
   "metadata": {},
   "outputs": [],
   "source": [
    "df_employee['Gender'].fillna('M',inplace=True)"
   ]
  },
  {
   "cell_type": "code",
   "execution_count": 885,
   "id": "31229f7d",
   "metadata": {},
   "outputs": [
    {
     "data": {
      "text/plain": [
       "M    3140\n",
       "F    2040\n",
       "Name: Gender, dtype: int64"
      ]
     },
     "execution_count": 885,
     "metadata": {},
     "output_type": "execute_result"
    }
   ],
   "source": [
    "df_employee['Gender'].value_counts()"
   ]
  },
  {
   "cell_type": "code",
   "execution_count": 886,
   "id": "687cd352",
   "metadata": {},
   "outputs": [
    {
     "data": {
      "text/plain": [
       "array(['M', 'Single', 'Divorsed', 'Married'], dtype=object)"
      ]
     },
     "execution_count": 886,
     "metadata": {},
     "output_type": "execute_result"
    }
   ],
   "source": [
    "df_employee['MaritalStatus'].unique()"
   ]
  },
  {
   "cell_type": "code",
   "execution_count": 887,
   "id": "a9807179",
   "metadata": {},
   "outputs": [],
   "source": [
    "df_employee['MaritalStatus'].replace('M','Married',inplace=True)"
   ]
  },
  {
   "cell_type": "code",
   "execution_count": 888,
   "id": "ec19730a",
   "metadata": {},
   "outputs": [
    {
     "data": {
      "text/plain": [
       "array(['Married', 'Single', 'Divorsed'], dtype=object)"
      ]
     },
     "execution_count": 888,
     "metadata": {},
     "output_type": "execute_result"
    }
   ],
   "source": [
    "df_employee['MaritalStatus'].unique()"
   ]
  },
  {
   "cell_type": "code",
   "execution_count": 889,
   "id": "49349fd1",
   "metadata": {},
   "outputs": [
    {
     "data": {
      "text/plain": [
       "<AxesSubplot:>"
      ]
     },
     "execution_count": 889,
     "metadata": {},
     "output_type": "execute_result"
    },
    {
     "data": {
      "image/png": "[encoded data removed]",
      "text/plain": [
       "<Figure size 432x288 with 1 Axes>"
      ]
     },
     "metadata": {
      "needs_background": "light"
     },
     "output_type": "display_data"
    }
   ],
   "source": [
    "df_employee['HourlnWeek'].hist()"
   ]
  },
  {
   "cell_type": "code",
   "execution_count": 890,
   "id": "8d25cd58",
   "metadata": {},
   "outputs": [
    {
     "name": "stderr",
     "output_type": "stream",
     "text": [
      "C:\\Users\\Anaconda\\envs\\py3.7.5\\lib\\site-packages\\seaborn\\_decorators.py:43: FutureWarning: Pass the following variable as a keyword arg: x. From version 0.12, the only valid positional argument will be `data`, and passing other arguments without an explicit keyword will result in an error or misinterpretation.\n",
      "  FutureWarning\n"
     ]
    },
    {
     "data": {
      "text/plain": [
       "<AxesSubplot:xlabel='HourlnWeek'>"
      ]
     },
     "execution_count": 890,
     "metadata": {},
     "output_type": "execute_result"
    },
    {
     "data": {
      "image/png": "[encoded data removed]",
      "text/plain": [
       "<Figure size 432x288 with 1 Axes>"
      ]
     },
     "metadata": {
      "needs_background": "light"
     },
     "output_type": "display_data"
    }
   ],
   "source": [
    "sns.boxplot(df_employee['HourlnWeek'])"
   ]
  },
  {
   "cell_type": "code",
   "execution_count": 891,
   "id": "81e7d421",
   "metadata": {},
   "outputs": [
    {
     "data": {
      "text/plain": [
       "-0.21504864786582972"
      ]
     },
     "execution_count": 891,
     "metadata": {},
     "output_type": "execute_result"
    }
   ],
   "source": [
    "df_employee['HourlnWeek'].skew()"
   ]
  },
  {
   "cell_type": "code",
   "execution_count": 892,
   "id": "4ca180b3",
   "metadata": {},
   "outputs": [
    {
     "data": {
      "text/plain": [
       "59.0"
      ]
     },
     "execution_count": 892,
     "metadata": {},
     "output_type": "execute_result"
    }
   ],
   "source": [
    "df_employee['HourlnWeek'].median()"
   ]
  },
  {
   "cell_type": "code",
   "execution_count": 893,
   "id": "82dbb131",
   "metadata": {},
   "outputs": [
    {
     "data": {
      "text/plain": [
       "57.979767014101775"
      ]
     },
     "execution_count": 893,
     "metadata": {},
     "output_type": "execute_result"
    }
   ],
   "source": [
    "df_employee['HourlnWeek'].mean()"
   ]
  },
  {
   "cell_type": "code",
   "execution_count": 894,
   "id": "23b81aa6",
   "metadata": {},
   "outputs": [],
   "source": [
    "df_employee['HourlnWeek'].fillna(df_employee['HourlnWeek'].median(),inplace=True)"
   ]
  },
  {
   "cell_type": "code",
   "execution_count": 895,
   "id": "a961c166",
   "metadata": {},
   "outputs": [
    {
     "data": {
      "text/plain": [
       "Executive         2072\n",
       "Manager           1756\n",
       "Senior Manager     763\n",
       "AVP                328\n",
       "VP                 223\n",
       "Name: Designation, dtype: int64"
      ]
     },
     "execution_count": 895,
     "metadata": {},
     "output_type": "execute_result"
    }
   ],
   "source": [
    "df_employee['Designation'].value_counts()"
   ]
  },
  {
   "cell_type": "code",
   "execution_count": 896,
   "id": "10c2cb99",
   "metadata": {},
   "outputs": [],
   "source": [
    "df_employee['Designation'].fillna(df_employee['Designation'].value_counts().index[0],inplace=True)"
   ]
  },
  {
   "cell_type": "code",
   "execution_count": 897,
   "id": "c6b084d4",
   "metadata": {},
   "outputs": [
    {
     "data": {
      "text/plain": [
       "Executive         2110\n",
       "Manager           1756\n",
       "Senior Manager     763\n",
       "AVP                328\n",
       "VP                 223\n",
       "Name: Designation, dtype: int64"
      ]
     },
     "execution_count": 897,
     "metadata": {},
     "output_type": "execute_result"
    }
   ],
   "source": [
    "df_employee['Designation'].value_counts()"
   ]
  },
  {
   "cell_type": "code",
   "execution_count": 898,
   "id": "98b28ff0",
   "metadata": {},
   "outputs": [
    {
     "data": {
      "text/plain": [
       "<AxesSubplot:>"
      ]
     },
     "execution_count": 898,
     "metadata": {},
     "output_type": "execute_result"
    },
    {
     "data": {
      "image/png": "[encoded data removed]",
      "text/plain": [
       "<Figure size 432x288 with 1 Axes>"
      ]
     },
     "metadata": {
      "needs_background": "light"
     },
     "output_type": "display_data"
    }
   ],
   "source": [
    "df_employee['SalaryHikelastYear'].hist()"
   ]
  },
  {
   "cell_type": "code",
   "execution_count": 899,
   "id": "404a465a",
   "metadata": {},
   "outputs": [
    {
     "data": {
      "text/plain": [
       "0.7789437595027958"
      ]
     },
     "execution_count": 899,
     "metadata": {},
     "output_type": "execute_result"
    }
   ],
   "source": [
    "df_employee['SalaryHikelastYear'].skew()"
   ]
  },
  {
   "cell_type": "markdown",
   "id": "76e000cb",
   "metadata": {},
   "source": [
    "Let's impiter with median as data is right skewed"
   ]
  },
  {
   "cell_type": "code",
   "execution_count": 900,
   "id": "969f9a86",
   "metadata": {},
   "outputs": [],
   "source": [
    "df_employee['SalaryHikelastYear'].fillna(df_employee['SalaryHikelastYear'].median(),inplace=True)"
   ]
  },
  {
   "cell_type": "code",
   "execution_count": 901,
   "id": "d2945ed1",
   "metadata": {},
   "outputs": [
    {
     "data": {
      "text/plain": [
       "<AxesSubplot:>"
      ]
     },
     "execution_count": 901,
     "metadata": {},
     "output_type": "execute_result"
    },
    {
     "data": {
      "image/png": "[encoded data removed]",
      "text/plain": [
       "<Figure size 432x288 with 1 Axes>"
      ]
     },
     "metadata": {
      "needs_background": "light"
     },
     "output_type": "display_data"
    }
   ],
   "source": [
    "df_employee['WorkExperience'].hist()"
   ]
  },
  {
   "cell_type": "markdown",
   "id": "2d2ed4a7",
   "metadata": {},
   "source": [
    "Let's impute with median as data is right skewed"
   ]
  },
  {
   "cell_type": "code",
   "execution_count": 902,
   "id": "9a0ec53f",
   "metadata": {},
   "outputs": [],
   "source": [
    "df_employee['WorkExperience'].fillna(df_employee['WorkExperience'].median(),inplace=True)"
   ]
  },
  {
   "cell_type": "code",
   "execution_count": 903,
   "id": "3dcea3e0",
   "metadata": {},
   "outputs": [
    {
     "data": {
      "text/plain": [
       "<AxesSubplot:>"
      ]
     },
     "execution_count": 903,
     "metadata": {},
     "output_type": "execute_result"
    },
    {
     "data": {
      "image/png": "[encoded data removed]",
      "text/plain": [
       "<Figure size 432x288 with 1 Axes>"
      ]
     },
     "metadata": {
      "needs_background": "light"
     },
     "output_type": "display_data"
    }
   ],
   "source": [
    "df_employee['LastPromotion'].hist()"
   ]
  },
  {
   "cell_type": "markdown",
   "id": "74b0310d",
   "metadata": {},
   "source": [
    "Let's impute with median as data is right skewed"
   ]
  },
  {
   "cell_type": "code",
   "execution_count": 904,
   "id": "79b401b8",
   "metadata": {},
   "outputs": [],
   "source": [
    "df_employee['LastPromotion'].fillna(df_employee['LastPromotion'].median(),inplace=True)"
   ]
  },
  {
   "cell_type": "code",
   "execution_count": 905,
   "id": "925ab6de",
   "metadata": {},
   "outputs": [
    {
     "data": {
      "text/plain": [
       "<AxesSubplot:>"
      ]
     },
     "execution_count": 905,
     "metadata": {},
     "output_type": "execute_result"
    },
    {
     "data": {
      "image/png": "[encoded data removed]",
      "text/plain": [
       "<Figure size 432x288 with 1 Axes>"
      ]
     },
     "metadata": {
      "needs_background": "light"
     },
     "output_type": "display_data"
    }
   ],
   "source": [
    "df_employee['CurrentProfile'].hist()"
   ]
  },
  {
   "cell_type": "code",
   "execution_count": 906,
   "id": "8b60c1d2",
   "metadata": {},
   "outputs": [],
   "source": [
    "df_employee['CurrentProfile'].fillna(df_employee['CurrentProfile'].median(),inplace=True)"
   ]
  },
  {
   "cell_type": "code",
   "execution_count": 907,
   "id": "6c95841b",
   "metadata": {},
   "outputs": [
    {
     "data": {
      "text/plain": [
       "<AxesSubplot:>"
      ]
     },
     "execution_count": 907,
     "metadata": {},
     "output_type": "execute_result"
    },
    {
     "data": {
      "image/png": "[encoded data removed]",
      "text/plain": [
       "<Figure size 432x288 with 1 Axes>"
      ]
     },
     "metadata": {
      "needs_background": "light"
     },
     "output_type": "display_data"
    }
   ],
   "source": [
    "df_employee['MonthlyIncome'].hist()"
   ]
  },
  {
   "cell_type": "code",
   "execution_count": 908,
   "id": "c6541b42",
   "metadata": {},
   "outputs": [],
   "source": [
    "df_employee['MonthlyIncome'].fillna(df_employee['MonthlyIncome'].median(),inplace=True)"
   ]
  },
  {
   "cell_type": "markdown",
   "id": "c7775a6f",
   "metadata": {},
   "source": [
    "all the missing values are taken care"
   ]
  },
  {
   "cell_type": "code",
   "execution_count": 909,
   "id": "b974bf0c",
   "metadata": {},
   "outputs": [
    {
     "data": {
      "text/plain": [
       "EmployeeID            0\n",
       "Attrition             0\n",
       "Age                   0\n",
       "TravelProfile         0\n",
       "Department            0\n",
       "HomeToWork            0\n",
       "EducationField        0\n",
       "Gender                0\n",
       "HourlnWeek            0\n",
       "Involvement           0\n",
       "WorkLifeBalance       0\n",
       "Designation           0\n",
       "JobSatisfaction       0\n",
       "ESOPs                 0\n",
       "NumCompaniesWorked    0\n",
       "OverTime              0\n",
       "SalaryHikelastYear    0\n",
       "WorkExperience        0\n",
       "LastPromotion         0\n",
       "CurrentProfile        0\n",
       "MaritalStatus         0\n",
       "MonthlyIncome         0\n",
       "dtype: int64"
      ]
     },
     "execution_count": 909,
     "metadata": {},
     "output_type": "execute_result"
    }
   ],
   "source": [
    "df_employee.isnull().sum()"
   ]
  },
  {
   "cell_type": "markdown",
   "id": "290e100f",
   "metadata": {},
   "source": [
    "Let's check the imbalance "
   ]
  },
  {
   "cell_type": "code",
   "execution_count": 910,
   "id": "1345cf2a",
   "metadata": {},
   "outputs": [
    {
     "name": "stderr",
     "output_type": "stream",
     "text": [
      "C:\\Users\\Anaconda\\envs\\py3.7.5\\lib\\site-packages\\seaborn\\_decorators.py:43: FutureWarning: Pass the following variable as a keyword arg: x. From version 0.12, the only valid positional argument will be `data`, and passing other arguments without an explicit keyword will result in an error or misinterpretation.\n",
      "  FutureWarning\n"
     ]
    },
    {
     "data": {
      "text/plain": [
       "<AxesSubplot:xlabel='Attrition', ylabel='count'>"
      ]
     },
     "execution_count": 910,
     "metadata": {},
     "output_type": "execute_result"
    },
    {
     "data": {
      "image/png": "[encoded data removed]",
      "text/plain": [
       "<Figure size 432x288 with 1 Axes>"
      ]
     },
     "metadata": {
      "needs_background": "light"
     },
     "output_type": "display_data"
    }
   ],
   "source": [
    "sns.countplot(df_employee['Attrition'])"
   ]
  },
  {
   "cell_type": "markdown",
   "id": "6ca11734",
   "metadata": {},
   "source": [
    "there are outliers in the numerical data"
   ]
  },
  {
   "cell_type": "code",
   "execution_count": 911,
   "id": "c8df3d87",
   "metadata": {},
   "outputs": [],
   "source": [
    "df_num = df_employee.select_dtypes(include=np.number)"
   ]
  },
  {
   "cell_type": "code",
   "execution_count": 912,
   "id": "4bce1e14",
   "metadata": {},
   "outputs": [
    {
     "data": {
      "text/plain": [
       "Index(['EmployeeID', 'Attrition', 'Age', 'HomeToWork', 'HourlnWeek',\n",
       "       'Involvement', 'WorkLifeBalance', 'JobSatisfaction', 'ESOPs',\n",
       "       'NumCompaniesWorked', 'OverTime', 'SalaryHikelastYear',\n",
       "       'WorkExperience', 'LastPromotion', 'CurrentProfile', 'MonthlyIncome'],\n",
       "      dtype='object')"
      ]
     },
     "execution_count": 912,
     "metadata": {},
     "output_type": "execute_result"
    }
   ],
   "source": [
    "df_num.columns"
   ]
  },
  {
   "cell_type": "code",
   "execution_count": 913,
   "id": "bf8cd9e3",
   "metadata": {},
   "outputs": [
    {
     "name": "stderr",
     "output_type": "stream",
     "text": [
      "C:\\Users\\Anaconda\\envs\\py3.7.5\\lib\\site-packages\\seaborn\\_decorators.py:43: FutureWarning: Pass the following variable as a keyword arg: x. From version 0.12, the only valid positional argument will be `data`, and passing other arguments without an explicit keyword will result in an error or misinterpretation.\n",
      "  FutureWarning\n"
     ]
    },
    {
     "data": {
      "text/plain": [
       "<AxesSubplot:xlabel='Attrition'>"
      ]
     },
     "execution_count": 913,
     "metadata": {},
     "output_type": "execute_result"
    },
    {
     "data": {
      "image/png": "[encoded data removed]",
      "text/plain": [
       "<Figure size 432x288 with 1 Axes>"
      ]
     },
     "metadata": {
      "needs_background": "light"
     },
     "output_type": "display_data"
    }
   ],
   "source": [
    "sns.boxplot(df_employee['Attrition'])"
   ]
  },
  {
   "cell_type": "code",
   "execution_count": 914,
   "id": "6e2811a6",
   "metadata": {},
   "outputs": [
    {
     "name": "stderr",
     "output_type": "stream",
     "text": [
      "C:\\Users\\Anaconda\\envs\\py3.7.5\\lib\\site-packages\\seaborn\\_decorators.py:43: FutureWarning: Pass the following variable as a keyword arg: x. From version 0.12, the only valid positional argument will be `data`, and passing other arguments without an explicit keyword will result in an error or misinterpretation.\n",
      "  FutureWarning\n"
     ]
    },
    {
     "data": {
      "text/plain": [
       "<AxesSubplot:xlabel='Age'>"
      ]
     },
     "execution_count": 914,
     "metadata": {},
     "output_type": "execute_result"
    },
    {
     "data": {
      "image/png": "[encoded data removed]",
      "text/plain": [
       "<Figure size 432x288 with 1 Axes>"
      ]
     },
     "metadata": {
      "needs_background": "light"
     },
     "output_type": "display_data"
    }
   ],
   "source": [
    "sns.boxplot(df_employee['Age'])"
   ]
  },
  {
   "cell_type": "code",
   "execution_count": 915,
   "id": "643ade77",
   "metadata": {},
   "outputs": [
    {
     "data": {
      "text/plain": [
       "57.42000000000007"
      ]
     },
     "execution_count": 915,
     "metadata": {},
     "output_type": "execute_result"
    }
   ],
   "source": [
    "df_employee['Age'].quantile(.98)"
   ]
  },
  {
   "cell_type": "code",
   "execution_count": 916,
   "id": "8bb59711",
   "metadata": {},
   "outputs": [],
   "source": [
    "df_employee.loc[df_employee['Age']> df_employee['Age'].quantile(.98),'Age'] = df_employee['Age'].quantile(.98)"
   ]
  },
  {
   "cell_type": "code",
   "execution_count": 917,
   "id": "6bfb8c1c",
   "metadata": {},
   "outputs": [
    {
     "name": "stderr",
     "output_type": "stream",
     "text": [
      "C:\\Users\\Anaconda\\envs\\py3.7.5\\lib\\site-packages\\seaborn\\_decorators.py:43: FutureWarning: Pass the following variable as a keyword arg: x. From version 0.12, the only valid positional argument will be `data`, and passing other arguments without an explicit keyword will result in an error or misinterpretation.\n",
      "  FutureWarning\n"
     ]
    },
    {
     "data": {
      "text/plain": [
       "<AxesSubplot:xlabel='Age'>"
      ]
     },
     "execution_count": 917,
     "metadata": {},
     "output_type": "execute_result"
    },
    {
     "data": {
      "image/png": "[encoded data removed]",
      "text/plain": [
       "<Figure size 432x288 with 1 Axes>"
      ]
     },
     "metadata": {
      "needs_background": "light"
     },
     "output_type": "display_data"
    }
   ],
   "source": [
    "sns.boxplot(df_employee['Age'])"
   ]
  },
  {
   "cell_type": "code",
   "execution_count": 918,
   "id": "b2ca2a30",
   "metadata": {},
   "outputs": [
    {
     "name": "stderr",
     "output_type": "stream",
     "text": [
      "C:\\Users\\Anaconda\\envs\\py3.7.5\\lib\\site-packages\\seaborn\\_decorators.py:43: FutureWarning: Pass the following variable as a keyword arg: x. From version 0.12, the only valid positional argument will be `data`, and passing other arguments without an explicit keyword will result in an error or misinterpretation.\n",
      "  FutureWarning\n"
     ]
    },
    {
     "data": {
      "text/plain": [
       "<AxesSubplot:xlabel='HomeToWork'>"
      ]
     },
     "execution_count": 918,
     "metadata": {},
     "output_type": "execute_result"
    },
    {
     "data": {
      "image/png": "[encoded data removed]",
      "text/plain": [
       "<Figure size 432x288 with 1 Axes>"
      ]
     },
     "metadata": {
      "needs_background": "light"
     },
     "output_type": "display_data"
    }
   ],
   "source": [
    "sns.boxplot(df_employee['HomeToWork'])"
   ]
  },
  {
   "cell_type": "code",
   "execution_count": 919,
   "id": "aad4c4c0",
   "metadata": {},
   "outputs": [
    {
     "data": {
      "text/plain": [
       "28.0"
      ]
     },
     "execution_count": 919,
     "metadata": {},
     "output_type": "execute_result"
    }
   ],
   "source": [
    "df_employee['HomeToWork'].quantile(.95)"
   ]
  },
  {
   "cell_type": "code",
   "execution_count": 920,
   "id": "88d3186b",
   "metadata": {},
   "outputs": [],
   "source": [
    "df_employee.loc[df_employee['HomeToWork']> df_employee['HomeToWork'].quantile(.98),'HomeToWork'] = df_employee['HomeToWork'].quantile(.98)"
   ]
  },
  {
   "cell_type": "code",
   "execution_count": 921,
   "id": "36d28a6b",
   "metadata": {},
   "outputs": [
    {
     "name": "stderr",
     "output_type": "stream",
     "text": [
      "C:\\Users\\Anaconda\\envs\\py3.7.5\\lib\\site-packages\\seaborn\\_decorators.py:43: FutureWarning: Pass the following variable as a keyword arg: x. From version 0.12, the only valid positional argument will be `data`, and passing other arguments without an explicit keyword will result in an error or misinterpretation.\n",
      "  FutureWarning\n"
     ]
    },
    {
     "data": {
      "text/plain": [
       "<AxesSubplot:xlabel='HomeToWork'>"
      ]
     },
     "execution_count": 921,
     "metadata": {},
     "output_type": "execute_result"
    },
    {
     "data": {
      "image/png": "[encoded data removed]",
      "text/plain": [
       "<Figure size 432x288 with 1 Axes>"
      ]
     },
     "metadata": {
      "needs_background": "light"
     },
     "output_type": "display_data"
    }
   ],
   "source": [
    "sns.boxplot(df_employee['HomeToWork'])"
   ]
  },
  {
   "cell_type": "code",
   "execution_count": 922,
   "id": "02409ef7",
   "metadata": {},
   "outputs": [
    {
     "data": {
      "text/plain": [
       "29.0"
      ]
     },
     "execution_count": 922,
     "metadata": {},
     "output_type": "execute_result"
    }
   ],
   "source": [
    "df_employee['HomeToWork'].quantile(.97)"
   ]
  },
  {
   "cell_type": "code",
   "execution_count": 923,
   "id": "2d43c3eb",
   "metadata": {},
   "outputs": [],
   "source": [
    "df_employee.loc[df_employee['HomeToWork']> df_employee['HomeToWork'].quantile(.97),'HomeToWork'] = df_employee['HomeToWork'].quantile(.97)"
   ]
  },
  {
   "cell_type": "code",
   "execution_count": 924,
   "id": "33f907c9",
   "metadata": {},
   "outputs": [
    {
     "name": "stderr",
     "output_type": "stream",
     "text": [
      "C:\\Users\\Anaconda\\envs\\py3.7.5\\lib\\site-packages\\seaborn\\_decorators.py:43: FutureWarning: Pass the following variable as a keyword arg: x. From version 0.12, the only valid positional argument will be `data`, and passing other arguments without an explicit keyword will result in an error or misinterpretation.\n",
      "  FutureWarning\n"
     ]
    },
    {
     "data": {
      "text/plain": [
       "<AxesSubplot:xlabel='HomeToWork'>"
      ]
     },
     "execution_count": 924,
     "metadata": {},
     "output_type": "execute_result"
    },
    {
     "data": {
      "image/png": "[encoded data removed]",
      "text/plain": [
       "<Figure size 432x288 with 1 Axes>"
      ]
     },
     "metadata": {
      "needs_background": "light"
     },
     "output_type": "display_data"
    }
   ],
   "source": [
    "sns.boxplot(df_employee['HomeToWork'])"
   ]
  },
  {
   "cell_type": "code",
   "execution_count": 925,
   "id": "11271adf",
   "metadata": {},
   "outputs": [
    {
     "name": "stderr",
     "output_type": "stream",
     "text": [
      "C:\\Users\\Anaconda\\envs\\py3.7.5\\lib\\site-packages\\seaborn\\_decorators.py:43: FutureWarning: Pass the following variable as a keyword arg: x. From version 0.12, the only valid positional argument will be `data`, and passing other arguments without an explicit keyword will result in an error or misinterpretation.\n",
      "  FutureWarning\n"
     ]
    },
    {
     "data": {
      "text/plain": [
       "<AxesSubplot:xlabel='HourlnWeek'>"
      ]
     },
     "execution_count": 925,
     "metadata": {},
     "output_type": "execute_result"
    },
    {
     "data": {
      "image/png": "[encoded data removed]",
      "text/plain": [
       "<Figure size 432x288 with 1 Axes>"
      ]
     },
     "metadata": {
      "needs_background": "light"
     },
     "output_type": "display_data"
    }
   ],
   "source": [
    "sns.boxplot(df_employee['HourlnWeek'])"
   ]
  },
  {
   "cell_type": "code",
   "execution_count": 926,
   "id": "40aaee89",
   "metadata": {},
   "outputs": [
    {
     "data": {
      "text/plain": [
       "35.0"
      ]
     },
     "execution_count": 926,
     "metadata": {},
     "output_type": "execute_result"
    }
   ],
   "source": [
    "df_employee['HourlnWeek'].quantile(0.05)"
   ]
  },
  {
   "cell_type": "code",
   "execution_count": 927,
   "id": "a774ef30",
   "metadata": {},
   "outputs": [],
   "source": [
    "df_employee.loc[df_employee['HourlnWeek'] < df_employee['HourlnWeek'].quantile(.05),'HourlnWeek'] = df_employee['HourlnWeek'].quantile(.05)"
   ]
  },
  {
   "cell_type": "code",
   "execution_count": 928,
   "id": "ab6afda6",
   "metadata": {},
   "outputs": [
    {
     "name": "stderr",
     "output_type": "stream",
     "text": [
      "C:\\Users\\Anaconda\\envs\\py3.7.5\\lib\\site-packages\\seaborn\\_decorators.py:43: FutureWarning: Pass the following variable as a keyword arg: x. From version 0.12, the only valid positional argument will be `data`, and passing other arguments without an explicit keyword will result in an error or misinterpretation.\n",
      "  FutureWarning\n"
     ]
    },
    {
     "data": {
      "text/plain": [
       "<AxesSubplot:xlabel='HourlnWeek'>"
      ]
     },
     "execution_count": 928,
     "metadata": {},
     "output_type": "execute_result"
    },
    {
     "data": {
      "image/png": "[encoded data removed]",
      "text/plain": [
       "<Figure size 432x288 with 1 Axes>"
      ]
     },
     "metadata": {
      "needs_background": "light"
     },
     "output_type": "display_data"
    }
   ],
   "source": [
    "sns.boxplot(df_employee['HourlnWeek'])"
   ]
  },
  {
   "cell_type": "code",
   "execution_count": 929,
   "id": "b3fc3c8c",
   "metadata": {},
   "outputs": [
    {
     "name": "stderr",
     "output_type": "stream",
     "text": [
      "C:\\Users\\Anaconda\\envs\\py3.7.5\\lib\\site-packages\\seaborn\\_decorators.py:43: FutureWarning: Pass the following variable as a keyword arg: x. From version 0.12, the only valid positional argument will be `data`, and passing other arguments without an explicit keyword will result in an error or misinterpretation.\n",
      "  FutureWarning\n"
     ]
    },
    {
     "data": {
      "text/plain": [
       "<AxesSubplot:xlabel='Involvement'>"
      ]
     },
     "execution_count": 929,
     "metadata": {},
     "output_type": "execute_result"
    },
    {
     "data": {
      "image/png": "[encoded data removed]",
      "text/plain": [
       "<Figure size 432x288 with 1 Axes>"
      ]
     },
     "metadata": {
      "needs_background": "light"
     },
     "output_type": "display_data"
    }
   ],
   "source": [
    "sns.boxplot(df_employee['Involvement'])"
   ]
  },
  {
   "cell_type": "code",
   "execution_count": 930,
   "id": "6210f9cc",
   "metadata": {},
   "outputs": [
    {
     "data": {
      "text/plain": [
       "2.0"
      ]
     },
     "execution_count": 930,
     "metadata": {},
     "output_type": "execute_result"
    }
   ],
   "source": [
    "df_employee['Involvement'].quantile(0.07)"
   ]
  },
  {
   "cell_type": "code",
   "execution_count": 931,
   "id": "fe6d9383",
   "metadata": {},
   "outputs": [],
   "source": [
    "df_employee.loc[df_employee['Involvement'] < df_employee['Involvement'].quantile(.07),'Involvement'] = df_employee['Involvement'].quantile(.07)"
   ]
  },
  {
   "cell_type": "code",
   "execution_count": 932,
   "id": "1b52b86c",
   "metadata": {},
   "outputs": [
    {
     "name": "stderr",
     "output_type": "stream",
     "text": [
      "C:\\Users\\Anaconda\\envs\\py3.7.5\\lib\\site-packages\\seaborn\\_decorators.py:43: FutureWarning: Pass the following variable as a keyword arg: x. From version 0.12, the only valid positional argument will be `data`, and passing other arguments without an explicit keyword will result in an error or misinterpretation.\n",
      "  FutureWarning\n"
     ]
    },
    {
     "data": {
      "text/plain": [
       "<AxesSubplot:xlabel='Involvement'>"
      ]
     },
     "execution_count": 932,
     "metadata": {},
     "output_type": "execute_result"
    },
    {
     "data": {
      "image/png": "[encoded data removed]",
      "text/plain": [
       "<Figure size 432x288 with 1 Axes>"
      ]
     },
     "metadata": {
      "needs_background": "light"
     },
     "output_type": "display_data"
    }
   ],
   "source": [
    "sns.boxplot(df_employee['Involvement'])"
   ]
  },
  {
   "cell_type": "code",
   "execution_count": 933,
   "id": "88673cd2",
   "metadata": {},
   "outputs": [
    {
     "name": "stderr",
     "output_type": "stream",
     "text": [
      "C:\\Users\\Anaconda\\envs\\py3.7.5\\lib\\site-packages\\seaborn\\_decorators.py:43: FutureWarning: Pass the following variable as a keyword arg: x. From version 0.12, the only valid positional argument will be `data`, and passing other arguments without an explicit keyword will result in an error or misinterpretation.\n",
      "  FutureWarning\n"
     ]
    },
    {
     "data": {
      "text/plain": [
       "<AxesSubplot:xlabel='WorkLifeBalance'>"
      ]
     },
     "execution_count": 933,
     "metadata": {},
     "output_type": "execute_result"
    },
    {
     "data": {
      "image/png": "[encoded data removed]",
      "text/plain": [
       "<Figure size 432x288 with 1 Axes>"
      ]
     },
     "metadata": {
      "needs_background": "light"
     },
     "output_type": "display_data"
    }
   ],
   "source": [
    "sns.boxplot(df_employee['WorkLifeBalance'])"
   ]
  },
  {
   "cell_type": "code",
   "execution_count": 934,
   "id": "9f6b41f7",
   "metadata": {},
   "outputs": [
    {
     "name": "stderr",
     "output_type": "stream",
     "text": [
      "C:\\Users\\Anaconda\\envs\\py3.7.5\\lib\\site-packages\\seaborn\\_decorators.py:43: FutureWarning: Pass the following variable as a keyword arg: x. From version 0.12, the only valid positional argument will be `data`, and passing other arguments without an explicit keyword will result in an error or misinterpretation.\n",
      "  FutureWarning\n"
     ]
    },
    {
     "data": {
      "text/plain": [
       "<AxesSubplot:xlabel='JobSatisfaction'>"
      ]
     },
     "execution_count": 934,
     "metadata": {},
     "output_type": "execute_result"
    },
    {
     "data": {
      "image/png": "[encoded data removed]",
      "text/plain": [
       "<Figure size 432x288 with 1 Axes>"
      ]
     },
     "metadata": {
      "needs_background": "light"
     },
     "output_type": "display_data"
    }
   ],
   "source": [
    "sns.boxplot(df_employee['JobSatisfaction'])"
   ]
  },
  {
   "cell_type": "code",
   "execution_count": 935,
   "id": "5f8b2211",
   "metadata": {},
   "outputs": [
    {
     "name": "stderr",
     "output_type": "stream",
     "text": [
      "C:\\Users\\Anaconda\\envs\\py3.7.5\\lib\\site-packages\\seaborn\\_decorators.py:43: FutureWarning: Pass the following variable as a keyword arg: x. From version 0.12, the only valid positional argument will be `data`, and passing other arguments without an explicit keyword will result in an error or misinterpretation.\n",
      "  FutureWarning\n"
     ]
    },
    {
     "data": {
      "text/plain": [
       "<AxesSubplot:xlabel='ESOPs'>"
      ]
     },
     "execution_count": 935,
     "metadata": {},
     "output_type": "execute_result"
    },
    {
     "data": {
      "image/png": "[encoded data removed]",
      "text/plain": [
       "<Figure size 432x288 with 1 Axes>"
      ]
     },
     "metadata": {
      "needs_background": "light"
     },
     "output_type": "display_data"
    }
   ],
   "source": [
    "sns.boxplot(df_employee['ESOPs'])"
   ]
  },
  {
   "cell_type": "code",
   "execution_count": 936,
   "id": "f242f39c",
   "metadata": {
    "scrolled": true
   },
   "outputs": [
    {
     "name": "stderr",
     "output_type": "stream",
     "text": [
      "C:\\Users\\Anaconda\\envs\\py3.7.5\\lib\\site-packages\\seaborn\\_decorators.py:43: FutureWarning: Pass the following variable as a keyword arg: x. From version 0.12, the only valid positional argument will be `data`, and passing other arguments without an explicit keyword will result in an error or misinterpretation.\n",
      "  FutureWarning\n"
     ]
    },
    {
     "data": {
      "text/plain": [
       "<AxesSubplot:xlabel='NumCompaniesWorked'>"
      ]
     },
     "execution_count": 936,
     "metadata": {},
     "output_type": "execute_result"
    },
    {
     "data": {
      "image/png": "[encoded data removed]",
      "text/plain": [
       "<Figure size 432x288 with 1 Axes>"
      ]
     },
     "metadata": {
      "needs_background": "light"
     },
     "output_type": "display_data"
    }
   ],
   "source": [
    "sns.boxplot(df_employee['NumCompaniesWorked'])"
   ]
  },
  {
   "cell_type": "code",
   "execution_count": 937,
   "id": "4773c6e5",
   "metadata": {},
   "outputs": [
    {
     "data": {
      "text/plain": [
       "10.0"
      ]
     },
     "execution_count": 937,
     "metadata": {},
     "output_type": "execute_result"
    }
   ],
   "source": [
    "df_employee_test['NumCompaniesWorked'].quantile(0.99)"
   ]
  },
  {
   "cell_type": "code",
   "execution_count": 938,
   "id": "bade5a22",
   "metadata": {},
   "outputs": [],
   "source": [
    "df_employee.loc[df_employee['NumCompaniesWorked'] > df_employee['NumCompaniesWorked'].quantile(.99),'NumCompaniesWorked'] = df_employee['NumCompaniesWorked'].quantile(.99)"
   ]
  },
  {
   "cell_type": "code",
   "execution_count": 939,
   "id": "9c9b5a63",
   "metadata": {},
   "outputs": [
    {
     "name": "stderr",
     "output_type": "stream",
     "text": [
      "C:\\Users\\Anaconda\\envs\\py3.7.5\\lib\\site-packages\\seaborn\\_decorators.py:43: FutureWarning: Pass the following variable as a keyword arg: x. From version 0.12, the only valid positional argument will be `data`, and passing other arguments without an explicit keyword will result in an error or misinterpretation.\n",
      "  FutureWarning\n"
     ]
    },
    {
     "data": {
      "text/plain": [
       "<AxesSubplot:xlabel='NumCompaniesWorked'>"
      ]
     },
     "execution_count": 939,
     "metadata": {},
     "output_type": "execute_result"
    },
    {
     "data": {
      "image/png": "[encoded data removed]",
      "text/plain": [
       "<Figure size 432x288 with 1 Axes>"
      ]
     },
     "metadata": {
      "needs_background": "light"
     },
     "output_type": "display_data"
    }
   ],
   "source": [
    "sns.boxplot(df_employee['NumCompaniesWorked'])"
   ]
  },
  {
   "cell_type": "code",
   "execution_count": 940,
   "id": "f7c5db88",
   "metadata": {},
   "outputs": [
    {
     "name": "stderr",
     "output_type": "stream",
     "text": [
      "C:\\Users\\Anaconda\\envs\\py3.7.5\\lib\\site-packages\\seaborn\\_decorators.py:43: FutureWarning: Pass the following variable as a keyword arg: x. From version 0.12, the only valid positional argument will be `data`, and passing other arguments without an explicit keyword will result in an error or misinterpretation.\n",
      "  FutureWarning\n"
     ]
    },
    {
     "data": {
      "text/plain": [
       "<AxesSubplot:xlabel='OverTime'>"
      ]
     },
     "execution_count": 940,
     "metadata": {},
     "output_type": "execute_result"
    },
    {
     "data": {
      "image/png": "[encoded data removed]",
      "text/plain": [
       "<Figure size 432x288 with 1 Axes>"
      ]
     },
     "metadata": {
      "needs_background": "light"
     },
     "output_type": "display_data"
    }
   ],
   "source": [
    "sns.boxplot(df_employee['OverTime'])"
   ]
  },
  {
   "cell_type": "code",
   "execution_count": 941,
   "id": "f35ffeb5",
   "metadata": {},
   "outputs": [
    {
     "name": "stderr",
     "output_type": "stream",
     "text": [
      "C:\\Users\\Anaconda\\envs\\py3.7.5\\lib\\site-packages\\seaborn\\_decorators.py:43: FutureWarning: Pass the following variable as a keyword arg: x. From version 0.12, the only valid positional argument will be `data`, and passing other arguments without an explicit keyword will result in an error or misinterpretation.\n",
      "  FutureWarning\n"
     ]
    },
    {
     "data": {
      "text/plain": [
       "<AxesSubplot:xlabel='SalaryHikelastYear'>"
      ]
     },
     "execution_count": 941,
     "metadata": {},
     "output_type": "execute_result"
    },
    {
     "data": {
      "image/png": "[encoded data removed]",
      "text/plain": [
       "<Figure size 432x288 with 1 Axes>"
      ]
     },
     "metadata": {
      "needs_background": "light"
     },
     "output_type": "display_data"
    }
   ],
   "source": [
    "sns.boxplot(df_employee['SalaryHikelastYear'])"
   ]
  },
  {
   "cell_type": "code",
   "execution_count": 942,
   "id": "c0ca3686",
   "metadata": {},
   "outputs": [
    {
     "name": "stderr",
     "output_type": "stream",
     "text": [
      "C:\\Users\\Anaconda\\envs\\py3.7.5\\lib\\site-packages\\seaborn\\_decorators.py:43: FutureWarning: Pass the following variable as a keyword arg: x. From version 0.12, the only valid positional argument will be `data`, and passing other arguments without an explicit keyword will result in an error or misinterpretation.\n",
      "  FutureWarning\n"
     ]
    },
    {
     "data": {
      "text/plain": [
       "<AxesSubplot:xlabel='WorkExperience'>"
      ]
     },
     "execution_count": 942,
     "metadata": {},
     "output_type": "execute_result"
    },
    {
     "data": {
      "image/png": "[encoded data removed]",
      "text/plain": [
       "<Figure size 432x288 with 1 Axes>"
      ]
     },
     "metadata": {
      "needs_background": "light"
     },
     "output_type": "display_data"
    }
   ],
   "source": [
    "sns.boxplot(df_employee['WorkExperience'])"
   ]
  },
  {
   "cell_type": "markdown",
   "id": "feed3181",
   "metadata": {},
   "source": [
    "here we see significantly more outliers, so we should treat this"
   ]
  },
  {
   "cell_type": "code",
   "execution_count": 943,
   "id": "c130b4a3",
   "metadata": {},
   "outputs": [
    {
     "data": {
      "text/plain": [
       "32.0"
      ]
     },
     "execution_count": 943,
     "metadata": {},
     "output_type": "execute_result"
    }
   ],
   "source": [
    "df_employee['WorkExperience'].quantile(.98)"
   ]
  },
  {
   "cell_type": "markdown",
   "id": "d37812f0",
   "metadata": {},
   "source": [
    "Let's impute 2% outliers with 98 percentile value which is 32"
   ]
  },
  {
   "cell_type": "code",
   "execution_count": 944,
   "id": "73432abc",
   "metadata": {},
   "outputs": [],
   "source": [
    "df_employee.loc[df_employee['WorkExperience']>df_employee['WorkExperience'].quantile(.98),'WorkExperience'] = df_employee['WorkExperience'].quantile(.98)"
   ]
  },
  {
   "cell_type": "code",
   "execution_count": 945,
   "id": "95180b69",
   "metadata": {},
   "outputs": [
    {
     "name": "stderr",
     "output_type": "stream",
     "text": [
      "C:\\Users\\Anaconda\\envs\\py3.7.5\\lib\\site-packages\\seaborn\\_decorators.py:43: FutureWarning: Pass the following variable as a keyword arg: x. From version 0.12, the only valid positional argument will be `data`, and passing other arguments without an explicit keyword will result in an error or misinterpretation.\n",
      "  FutureWarning\n"
     ]
    },
    {
     "data": {
      "text/plain": [
       "<AxesSubplot:xlabel='WorkExperience'>"
      ]
     },
     "execution_count": 945,
     "metadata": {},
     "output_type": "execute_result"
    },
    {
     "data": {
      "image/png": "[encoded data removed]",
      "text/plain": [
       "<Figure size 432x288 with 1 Axes>"
      ]
     },
     "metadata": {
      "needs_background": "light"
     },
     "output_type": "display_data"
    }
   ],
   "source": [
    "sns.boxplot(df_employee['WorkExperience'])"
   ]
  },
  {
   "cell_type": "code",
   "execution_count": 946,
   "id": "2014f728",
   "metadata": {},
   "outputs": [
    {
     "name": "stderr",
     "output_type": "stream",
     "text": [
      "C:\\Users\\Anaconda\\envs\\py3.7.5\\lib\\site-packages\\seaborn\\_decorators.py:43: FutureWarning: Pass the following variable as a keyword arg: x. From version 0.12, the only valid positional argument will be `data`, and passing other arguments without an explicit keyword will result in an error or misinterpretation.\n",
      "  FutureWarning\n"
     ]
    },
    {
     "data": {
      "text/plain": [
       "<AxesSubplot:xlabel='LastPromotion'>"
      ]
     },
     "execution_count": 946,
     "metadata": {},
     "output_type": "execute_result"
    },
    {
     "data": {
      "image/png": "[encoded data removed]",
      "text/plain": [
       "<Figure size 432x288 with 1 Axes>"
      ]
     },
     "metadata": {
      "needs_background": "light"
     },
     "output_type": "display_data"
    }
   ],
   "source": [
    "sns.boxplot(df_employee['LastPromotion'])"
   ]
  },
  {
   "cell_type": "code",
   "execution_count": 947,
   "id": "d736df9a",
   "metadata": {},
   "outputs": [
    {
     "data": {
      "text/plain": [
       "7.0"
      ]
     },
     "execution_count": 947,
     "metadata": {},
     "output_type": "execute_result"
    }
   ],
   "source": [
    "df_employee['LastPromotion'].quantile(0.90)"
   ]
  },
  {
   "cell_type": "markdown",
   "id": "0abfbee5",
   "metadata": {},
   "source": [
    "Let's impute 10% outliers with 90 percentile value which is 7"
   ]
  },
  {
   "cell_type": "code",
   "execution_count": 948,
   "id": "89ba64d0",
   "metadata": {},
   "outputs": [],
   "source": [
    "df_employee.loc[df_employee['LastPromotion']>df_employee['LastPromotion'].quantile(0.90),'LastPromotion']=df_employee['LastPromotion'].quantile(0.90)"
   ]
  },
  {
   "cell_type": "code",
   "execution_count": 949,
   "id": "abc399fe",
   "metadata": {},
   "outputs": [
    {
     "name": "stderr",
     "output_type": "stream",
     "text": [
      "C:\\Users\\Anaconda\\envs\\py3.7.5\\lib\\site-packages\\seaborn\\_decorators.py:43: FutureWarning: Pass the following variable as a keyword arg: x. From version 0.12, the only valid positional argument will be `data`, and passing other arguments without an explicit keyword will result in an error or misinterpretation.\n",
      "  FutureWarning\n"
     ]
    },
    {
     "data": {
      "text/plain": [
       "<AxesSubplot:xlabel='LastPromotion'>"
      ]
     },
     "execution_count": 949,
     "metadata": {},
     "output_type": "execute_result"
    },
    {
     "data": {
      "image/png": "[encoded data removed]",
      "text/plain": [
       "<Figure size 432x288 with 1 Axes>"
      ]
     },
     "metadata": {
      "needs_background": "light"
     },
     "output_type": "display_data"
    }
   ],
   "source": [
    "sns.boxplot(df_employee['LastPromotion'])"
   ]
  },
  {
   "cell_type": "code",
   "execution_count": 950,
   "id": "0766495e",
   "metadata": {},
   "outputs": [
    {
     "name": "stderr",
     "output_type": "stream",
     "text": [
      "C:\\Users\\Anaconda\\envs\\py3.7.5\\lib\\site-packages\\seaborn\\_decorators.py:43: FutureWarning: Pass the following variable as a keyword arg: x. From version 0.12, the only valid positional argument will be `data`, and passing other arguments without an explicit keyword will result in an error or misinterpretation.\n",
      "  FutureWarning\n"
     ]
    },
    {
     "data": {
      "text/plain": [
       "<AxesSubplot:xlabel='CurrentProfile'>"
      ]
     },
     "execution_count": 950,
     "metadata": {},
     "output_type": "execute_result"
    },
    {
     "data": {
      "image/png": "[encoded data removed]",
      "text/plain": [
       "<Figure size 432x288 with 1 Axes>"
      ]
     },
     "metadata": {
      "needs_background": "light"
     },
     "output_type": "display_data"
    }
   ],
   "source": [
    "sns.boxplot(df_employee['CurrentProfile'])"
   ]
  },
  {
   "cell_type": "code",
   "execution_count": 951,
   "id": "bd60e8fc",
   "metadata": {},
   "outputs": [
    {
     "data": {
      "text/plain": [
       "14.0"
      ]
     },
     "execution_count": 951,
     "metadata": {},
     "output_type": "execute_result"
    }
   ],
   "source": [
    "df_employee['CurrentProfile'].quantile(0.99)"
   ]
  },
  {
   "cell_type": "markdown",
   "id": "b5581be0",
   "metadata": {},
   "source": [
    "Let's impute 1% outlier with 99 percentile value which is 14"
   ]
  },
  {
   "cell_type": "code",
   "execution_count": 952,
   "id": "7288406b",
   "metadata": {},
   "outputs": [],
   "source": [
    "df_employee.loc[df_employee['CurrentProfile']>df_employee['CurrentProfile'].quantile(.99),'CurrentProfile'] = df_employee['CurrentProfile'].quantile(.99)"
   ]
  },
  {
   "cell_type": "code",
   "execution_count": 953,
   "id": "1735ab2f",
   "metadata": {},
   "outputs": [
    {
     "name": "stderr",
     "output_type": "stream",
     "text": [
      "C:\\Users\\Anaconda\\envs\\py3.7.5\\lib\\site-packages\\seaborn\\_decorators.py:43: FutureWarning: Pass the following variable as a keyword arg: x. From version 0.12, the only valid positional argument will be `data`, and passing other arguments without an explicit keyword will result in an error or misinterpretation.\n",
      "  FutureWarning\n"
     ]
    },
    {
     "data": {
      "text/plain": [
       "<AxesSubplot:xlabel='CurrentProfile'>"
      ]
     },
     "execution_count": 953,
     "metadata": {},
     "output_type": "execute_result"
    },
    {
     "data": {
      "image/png": "[encoded data removed]",
      "text/plain": [
       "<Figure size 432x288 with 1 Axes>"
      ]
     },
     "metadata": {
      "needs_background": "light"
     },
     "output_type": "display_data"
    }
   ],
   "source": [
    "sns.boxplot(df_employee['CurrentProfile'])"
   ]
  },
  {
   "cell_type": "code",
   "execution_count": 954,
   "id": "f46a35b5",
   "metadata": {},
   "outputs": [
    {
     "name": "stderr",
     "output_type": "stream",
     "text": [
      "C:\\Users\\Anaconda\\envs\\py3.7.5\\lib\\site-packages\\seaborn\\_decorators.py:43: FutureWarning: Pass the following variable as a keyword arg: x. From version 0.12, the only valid positional argument will be `data`, and passing other arguments without an explicit keyword will result in an error or misinterpretation.\n",
      "  FutureWarning\n"
     ]
    },
    {
     "data": {
      "text/plain": [
       "<AxesSubplot:xlabel='MonthlyIncome'>"
      ]
     },
     "execution_count": 954,
     "metadata": {},
     "output_type": "execute_result"
    },
    {
     "data": {
      "image/png": "[encoded data removed]",
      "text/plain": [
       "<Figure size 432x288 with 1 Axes>"
      ]
     },
     "metadata": {
      "needs_background": "light"
     },
     "output_type": "display_data"
    }
   ],
   "source": [
    "sns.boxplot(df_employee['MonthlyIncome'])"
   ]
  },
  {
   "cell_type": "code",
   "execution_count": 955,
   "id": "b5f8c54d",
   "metadata": {},
   "outputs": [
    {
     "data": {
      "text/plain": [
       "33041.25"
      ]
     },
     "execution_count": 955,
     "metadata": {},
     "output_type": "execute_result"
    }
   ],
   "source": [
    "df_employee['MonthlyIncome'].quantile(0.95)"
   ]
  },
  {
   "cell_type": "markdown",
   "id": "60dac7f5",
   "metadata": {},
   "source": [
    "Let's impute 5% outlier with 95 percentile value which is 33041.25"
   ]
  },
  {
   "cell_type": "code",
   "execution_count": 956,
   "id": "8c723069",
   "metadata": {},
   "outputs": [],
   "source": [
    "df_employee.loc[df_employee['MonthlyIncome']>df_employee['MonthlyIncome'].quantile(.95),'MonthlyIncome'] = df_employee['MonthlyIncome'].quantile(.95)"
   ]
  },
  {
   "cell_type": "code",
   "execution_count": 957,
   "id": "5545ac1a",
   "metadata": {},
   "outputs": [
    {
     "name": "stderr",
     "output_type": "stream",
     "text": [
      "C:\\Users\\Anaconda\\envs\\py3.7.5\\lib\\site-packages\\seaborn\\_decorators.py:43: FutureWarning: Pass the following variable as a keyword arg: x. From version 0.12, the only valid positional argument will be `data`, and passing other arguments without an explicit keyword will result in an error or misinterpretation.\n",
      "  FutureWarning\n"
     ]
    },
    {
     "data": {
      "text/plain": [
       "<AxesSubplot:xlabel='MonthlyIncome'>"
      ]
     },
     "execution_count": 957,
     "metadata": {},
     "output_type": "execute_result"
    },
    {
     "data": {
      "image/png": "[encoded data removed]",
      "text/plain": [
       "<Figure size 432x288 with 1 Axes>"
      ]
     },
     "metadata": {
      "needs_background": "light"
     },
     "output_type": "display_data"
    }
   ],
   "source": [
    "sns.boxplot(df_employee['MonthlyIncome'])"
   ]
  },
  {
   "cell_type": "code",
   "execution_count": 958,
   "id": "28e6e4e0",
   "metadata": {},
   "outputs": [
    {
     "data": {
      "text/plain": [
       "32423.039999999994"
      ]
     },
     "execution_count": 958,
     "metadata": {},
     "output_type": "execute_result"
    }
   ],
   "source": [
    "df_employee['MonthlyIncome'].quantile(0.94)"
   ]
  },
  {
   "cell_type": "code",
   "execution_count": 959,
   "id": "403af46c",
   "metadata": {},
   "outputs": [],
   "source": [
    "df_employee.loc[df_employee['MonthlyIncome']>df_employee['MonthlyIncome'].quantile(.94),'MonthlyIncome'] = df_employee['MonthlyIncome'].quantile(.94)"
   ]
  },
  {
   "cell_type": "code",
   "execution_count": 960,
   "id": "6be0f06c",
   "metadata": {},
   "outputs": [
    {
     "name": "stderr",
     "output_type": "stream",
     "text": [
      "C:\\Users\\Anaconda\\envs\\py3.7.5\\lib\\site-packages\\seaborn\\_decorators.py:43: FutureWarning: Pass the following variable as a keyword arg: x. From version 0.12, the only valid positional argument will be `data`, and passing other arguments without an explicit keyword will result in an error or misinterpretation.\n",
      "  FutureWarning\n"
     ]
    },
    {
     "data": {
      "text/plain": [
       "<AxesSubplot:xlabel='MonthlyIncome'>"
      ]
     },
     "execution_count": 960,
     "metadata": {},
     "output_type": "execute_result"
    },
    {
     "data": {
      "image/png": "[encoded data removed]",
      "text/plain": [
       "<Figure size 432x288 with 1 Axes>"
      ]
     },
     "metadata": {
      "needs_background": "light"
     },
     "output_type": "display_data"
    }
   ],
   "source": [
    "sns.boxplot(df_employee['MonthlyIncome'])"
   ]
  },
  {
   "cell_type": "code",
   "execution_count": 961,
   "id": "90ce65b0",
   "metadata": {},
   "outputs": [
    {
     "data": {
      "text/plain": [
       "30224.760000000046"
      ]
     },
     "execution_count": 961,
     "metadata": {},
     "output_type": "execute_result"
    }
   ],
   "source": [
    "df_employee['MonthlyIncome'].quantile(0.92)"
   ]
  },
  {
   "cell_type": "code",
   "execution_count": 962,
   "id": "5cf2e18c",
   "metadata": {},
   "outputs": [],
   "source": [
    "df_employee.loc[df_employee['MonthlyIncome']>df_employee['MonthlyIncome'].quantile(.92),'MonthlyIncome'] = df_employee['MonthlyIncome'].quantile(.92)"
   ]
  },
  {
   "cell_type": "code",
   "execution_count": 963,
   "id": "99726a06",
   "metadata": {},
   "outputs": [
    {
     "name": "stderr",
     "output_type": "stream",
     "text": [
      "C:\\Users\\Anaconda\\envs\\py3.7.5\\lib\\site-packages\\seaborn\\_decorators.py:43: FutureWarning: Pass the following variable as a keyword arg: x. From version 0.12, the only valid positional argument will be `data`, and passing other arguments without an explicit keyword will result in an error or misinterpretation.\n",
      "  FutureWarning\n"
     ]
    },
    {
     "data": {
      "text/plain": [
       "<AxesSubplot:xlabel='MonthlyIncome'>"
      ]
     },
     "execution_count": 963,
     "metadata": {},
     "output_type": "execute_result"
    },
    {
     "data": {
      "image/png": "[encoded data removed]",
      "text/plain": [
       "<Figure size 432x288 with 1 Axes>"
      ]
     },
     "metadata": {
      "needs_background": "light"
     },
     "output_type": "display_data"
    }
   ],
   "source": [
    "sns.boxplot(df_employee['MonthlyIncome'])"
   ]
  },
  {
   "cell_type": "code",
   "execution_count": 964,
   "id": "f21a8ba2",
   "metadata": {},
   "outputs": [
    {
     "data": {
      "text/plain": [
       "(5180, 22)"
      ]
     },
     "execution_count": 964,
     "metadata": {},
     "output_type": "execute_result"
    }
   ],
   "source": [
    "df_employee.shape"
   ]
  },
  {
   "cell_type": "markdown",
   "id": "514e3099",
   "metadata": {},
   "source": [
    "Let's convert the object into numerical types for proper model training"
   ]
  },
  {
   "cell_type": "code",
   "execution_count": 965,
   "id": "43162a07",
   "metadata": {},
   "outputs": [],
   "source": [
    "df_features = df_employee.drop('Attrition',axis=1)"
   ]
  },
  {
   "cell_type": "code",
   "execution_count": 966,
   "id": "785f8f96",
   "metadata": {},
   "outputs": [
    {
     "data": {
      "text/plain": [
       "(5180, 21)"
      ]
     },
     "execution_count": 966,
     "metadata": {},
     "output_type": "execute_result"
    }
   ],
   "source": [
    "df_features.shape"
   ]
  },
  {
   "cell_type": "code",
   "execution_count": 967,
   "id": "50c16159",
   "metadata": {},
   "outputs": [],
   "source": [
    "df_cat = df_features.select_dtypes(include=np.object)"
   ]
  },
  {
   "cell_type": "code",
   "execution_count": 968,
   "id": "32cbbad2",
   "metadata": {},
   "outputs": [],
   "source": [
    "Y = df_employee['Attrition']"
   ]
  },
  {
   "cell_type": "code",
   "execution_count": 969,
   "id": "13ca560d",
   "metadata": {},
   "outputs": [],
   "source": [
    "df_features_cat = pd.get_dummies(data = df_cat, drop_first = True)"
   ]
  },
  {
   "cell_type": "code",
   "execution_count": 970,
   "id": "6b19c4a8",
   "metadata": {},
   "outputs": [
    {
     "data": {
      "text/plain": [
       "Index(['TravelProfile_Rarely', 'TravelProfile_Yes', 'Department_Marketing',\n",
       "       'Department_Sales', 'EducationField_Engineer', 'EducationField_MBA',\n",
       "       'EducationField_Marketing Diploma', 'EducationField_Other',\n",
       "       'EducationField_Statistics', 'Gender_M', 'Designation_Executive',\n",
       "       'Designation_Manager', 'Designation_Senior Manager', 'Designation_VP',\n",
       "       'MaritalStatus_Married', 'MaritalStatus_Single'],\n",
       "      dtype='object')"
      ]
     },
     "execution_count": 970,
     "metadata": {},
     "output_type": "execute_result"
    }
   ],
   "source": [
    "df_features_cat.columns"
   ]
  },
  {
   "cell_type": "code",
   "execution_count": 971,
   "id": "d2f516ef",
   "metadata": {},
   "outputs": [
    {
     "data": {
      "text/plain": [
       "Index(['EmployeeID', 'Age', 'HomeToWork', 'HourlnWeek', 'Involvement',\n",
       "       'WorkLifeBalance', 'JobSatisfaction', 'ESOPs', 'NumCompaniesWorked',\n",
       "       'OverTime', 'SalaryHikelastYear', 'WorkExperience', 'LastPromotion',\n",
       "       'CurrentProfile', 'MonthlyIncome'],\n",
       "      dtype='object')"
      ]
     },
     "execution_count": 971,
     "metadata": {},
     "output_type": "execute_result"
    }
   ],
   "source": [
    "df_num = df_features.select_dtypes(include = [np.number])\n",
    "df_num.columns"
   ]
  },
  {
   "cell_type": "code",
   "execution_count": 972,
   "id": "e59c09d8",
   "metadata": {},
   "outputs": [
    {
     "data": {
      "text/html": [
       "<div>\n",
       "<style scoped>\n",
       "    .dataframe tbody tr th:only-of-type {\n",
       "        vertical-align: middle;\n",
       "    }\n",
       "\n",
       "    .dataframe tbody tr th {\n",
       "        vertical-align: top;\n",
       "    }\n",
       "\n",
       "    .dataframe thead th {\n",
       "        text-align: right;\n",
       "    }\n",
       "</style>\n",
       "<table border=\"1\" class=\"dataframe\">\n",
       "  <thead>\n",
       "    <tr style=\"text-align: right;\">\n",
       "      <th></th>\n",
       "      <th>EmployeeID</th>\n",
       "      <th>Age</th>\n",
       "      <th>HomeToWork</th>\n",
       "      <th>HourlnWeek</th>\n",
       "      <th>Involvement</th>\n",
       "      <th>WorkLifeBalance</th>\n",
       "      <th>JobSatisfaction</th>\n",
       "      <th>ESOPs</th>\n",
       "      <th>NumCompaniesWorked</th>\n",
       "      <th>OverTime</th>\n",
       "      <th>...</th>\n",
       "      <th>EducationField_Marketing Diploma</th>\n",
       "      <th>EducationField_Other</th>\n",
       "      <th>EducationField_Statistics</th>\n",
       "      <th>Gender_M</th>\n",
       "      <th>Designation_Executive</th>\n",
       "      <th>Designation_Manager</th>\n",
       "      <th>Designation_Senior Manager</th>\n",
       "      <th>Designation_VP</th>\n",
       "      <th>MaritalStatus_Married</th>\n",
       "      <th>MaritalStatus_Single</th>\n",
       "    </tr>\n",
       "  </thead>\n",
       "  <tbody>\n",
       "    <tr>\n",
       "      <th>0</th>\n",
       "      <td>5110001</td>\n",
       "      <td>35.0</td>\n",
       "      <td>5.0</td>\n",
       "      <td>69.0</td>\n",
       "      <td>2</td>\n",
       "      <td>1</td>\n",
       "      <td>1</td>\n",
       "      <td>1</td>\n",
       "      <td>1</td>\n",
       "      <td>1</td>\n",
       "      <td>...</td>\n",
       "      <td>0</td>\n",
       "      <td>0</td>\n",
       "      <td>0</td>\n",
       "      <td>1</td>\n",
       "      <td>1</td>\n",
       "      <td>0</td>\n",
       "      <td>0</td>\n",
       "      <td>0</td>\n",
       "      <td>1</td>\n",
       "      <td>0</td>\n",
       "    </tr>\n",
       "    <tr>\n",
       "      <th>1</th>\n",
       "      <td>5110002</td>\n",
       "      <td>32.0</td>\n",
       "      <td>5.0</td>\n",
       "      <td>62.0</td>\n",
       "      <td>4</td>\n",
       "      <td>3</td>\n",
       "      <td>2</td>\n",
       "      <td>0</td>\n",
       "      <td>8</td>\n",
       "      <td>0</td>\n",
       "      <td>...</td>\n",
       "      <td>0</td>\n",
       "      <td>0</td>\n",
       "      <td>1</td>\n",
       "      <td>0</td>\n",
       "      <td>1</td>\n",
       "      <td>0</td>\n",
       "      <td>0</td>\n",
       "      <td>0</td>\n",
       "      <td>0</td>\n",
       "      <td>1</td>\n",
       "    </tr>\n",
       "    <tr>\n",
       "      <th>2</th>\n",
       "      <td>5110003</td>\n",
       "      <td>31.0</td>\n",
       "      <td>5.0</td>\n",
       "      <td>45.0</td>\n",
       "      <td>5</td>\n",
       "      <td>3</td>\n",
       "      <td>2</td>\n",
       "      <td>1</td>\n",
       "      <td>3</td>\n",
       "      <td>0</td>\n",
       "      <td>...</td>\n",
       "      <td>0</td>\n",
       "      <td>0</td>\n",
       "      <td>1</td>\n",
       "      <td>0</td>\n",
       "      <td>0</td>\n",
       "      <td>1</td>\n",
       "      <td>0</td>\n",
       "      <td>0</td>\n",
       "      <td>0</td>\n",
       "      <td>1</td>\n",
       "    </tr>\n",
       "    <tr>\n",
       "      <th>3</th>\n",
       "      <td>5110004</td>\n",
       "      <td>34.0</td>\n",
       "      <td>10.0</td>\n",
       "      <td>35.0</td>\n",
       "      <td>3</td>\n",
       "      <td>2</td>\n",
       "      <td>4</td>\n",
       "      <td>1</td>\n",
       "      <td>1</td>\n",
       "      <td>0</td>\n",
       "      <td>...</td>\n",
       "      <td>0</td>\n",
       "      <td>0</td>\n",
       "      <td>1</td>\n",
       "      <td>0</td>\n",
       "      <td>0</td>\n",
       "      <td>1</td>\n",
       "      <td>0</td>\n",
       "      <td>0</td>\n",
       "      <td>0</td>\n",
       "      <td>0</td>\n",
       "    </tr>\n",
       "    <tr>\n",
       "      <th>4</th>\n",
       "      <td>5110005</td>\n",
       "      <td>37.0</td>\n",
       "      <td>27.0</td>\n",
       "      <td>49.0</td>\n",
       "      <td>3</td>\n",
       "      <td>4</td>\n",
       "      <td>4</td>\n",
       "      <td>1</td>\n",
       "      <td>8</td>\n",
       "      <td>0</td>\n",
       "      <td>...</td>\n",
       "      <td>0</td>\n",
       "      <td>0</td>\n",
       "      <td>1</td>\n",
       "      <td>0</td>\n",
       "      <td>0</td>\n",
       "      <td>1</td>\n",
       "      <td>0</td>\n",
       "      <td>0</td>\n",
       "      <td>0</td>\n",
       "      <td>0</td>\n",
       "    </tr>\n",
       "  </tbody>\n",
       "</table>\n",
       "<p>5 rows × 31 columns</p>\n",
       "</div>"
      ],
      "text/plain": [
       "   EmployeeID   Age  HomeToWork  HourlnWeek  Involvement  WorkLifeBalance  \\\n",
       "0     5110001  35.0         5.0        69.0            2                1   \n",
       "1     5110002  32.0         5.0        62.0            4                3   \n",
       "2     5110003  31.0         5.0        45.0            5                3   \n",
       "3     5110004  34.0        10.0        35.0            3                2   \n",
       "4     5110005  37.0        27.0        49.0            3                4   \n",
       "\n",
       "   JobSatisfaction  ESOPs  NumCompaniesWorked  OverTime  ...  \\\n",
       "0                1      1                   1         1  ...   \n",
       "1                2      0                   8         0  ...   \n",
       "2                2      1                   3         0  ...   \n",
       "3                4      1                   1         0  ...   \n",
       "4                4      1                   8         0  ...   \n",
       "\n",
       "   EducationField_Marketing Diploma  EducationField_Other  \\\n",
       "0                                 0                     0   \n",
       "1                                 0                     0   \n",
       "2                                 0                     0   \n",
       "3                                 0                     0   \n",
       "4                                 0                     0   \n",
       "\n",
       "   EducationField_Statistics  Gender_M  Designation_Executive  \\\n",
       "0                          0         1                      1   \n",
       "1                          1         0                      1   \n",
       "2                          1         0                      0   \n",
       "3                          1         0                      0   \n",
       "4                          1         0                      0   \n",
       "\n",
       "   Designation_Manager  Designation_Senior Manager  Designation_VP  \\\n",
       "0                    0                           0               0   \n",
       "1                    0                           0               0   \n",
       "2                    1                           0               0   \n",
       "3                    1                           0               0   \n",
       "4                    1                           0               0   \n",
       "\n",
       "   MaritalStatus_Married  MaritalStatus_Single  \n",
       "0                      1                     0  \n",
       "1                      0                     1  \n",
       "2                      0                     1  \n",
       "3                      0                     0  \n",
       "4                      0                     0  \n",
       "\n",
       "[5 rows x 31 columns]"
      ]
     },
     "execution_count": 972,
     "metadata": {},
     "output_type": "execute_result"
    }
   ],
   "source": [
    "X = pd.concat([df_num, df_features_cat], axis = 1)\n",
    "X.head()"
   ]
  },
  {
   "cell_type": "code",
   "execution_count": 973,
   "id": "8b27038a",
   "metadata": {},
   "outputs": [
    {
     "data": {
      "text/plain": [
       "(5180, 31)"
      ]
     },
     "execution_count": 973,
     "metadata": {},
     "output_type": "execute_result"
    }
   ],
   "source": [
    "X.shape"
   ]
  },
  {
   "cell_type": "code",
   "execution_count": 974,
   "id": "dda2b675",
   "metadata": {},
   "outputs": [
    {
     "data": {
      "text/plain": [
       "0       0\n",
       "1       1\n",
       "2       0\n",
       "3       0\n",
       "4       0\n",
       "       ..\n",
       "5175    0\n",
       "5176    0\n",
       "5177    0\n",
       "5178    0\n",
       "5179    1\n",
       "Name: Attrition, Length: 5180, dtype: int64"
      ]
     },
     "execution_count": 974,
     "metadata": {},
     "output_type": "execute_result"
    }
   ],
   "source": [
    "Y"
   ]
  },
  {
   "cell_type": "markdown",
   "id": "cab7e100",
   "metadata": {},
   "source": [
    "Let's remove employee id from X"
   ]
  },
  {
   "cell_type": "code",
   "execution_count": 975,
   "id": "4200552e",
   "metadata": {},
   "outputs": [],
   "source": [
    "X = X.drop('EmployeeID',axis=1)"
   ]
  },
  {
   "cell_type": "code",
   "execution_count": 976,
   "id": "1638d7ff",
   "metadata": {},
   "outputs": [],
   "source": [
    "from sklearn.model_selection import train_test_split\n",
    "from sklearn.metrics import roc_curve,roc_auc_score,accuracy_score"
   ]
  },
  {
   "cell_type": "code",
   "execution_count": 977,
   "id": "c62b3a7d",
   "metadata": {},
   "outputs": [],
   "source": [
    "X_train, X_test, Y_train,Y_test = train_test_split(X,Y,test_size=0.3,random_state=42)"
   ]
  },
  {
   "cell_type": "code",
   "execution_count": 978,
   "id": "73d0d5a8",
   "metadata": {},
   "outputs": [],
   "source": [
    "from sklearn.tree import DecisionTreeClassifier"
   ]
  },
  {
   "cell_type": "code",
   "execution_count": 979,
   "id": "8867021a",
   "metadata": {},
   "outputs": [],
   "source": [
    "dt = DecisionTreeClassifier(criterion = 'entropy', random_state = 10)"
   ]
  },
  {
   "cell_type": "code",
   "execution_count": 980,
   "id": "01c567ed",
   "metadata": {},
   "outputs": [],
   "source": [
    "dt.fit(X_train, Y_train)\n",
    "Y_pred = dt.predict(X_test)"
   ]
  },
  {
   "cell_type": "code",
   "execution_count": 981,
   "id": "f9e3b610",
   "metadata": {},
   "outputs": [
    {
     "data": {
      "text/plain": [
       "0.9382239382239382"
      ]
     },
     "execution_count": 981,
     "metadata": {},
     "output_type": "execute_result"
    }
   ],
   "source": [
    "accuracy_score(Y_test,Y_pred)"
   ]
  },
  {
   "cell_type": "code",
   "execution_count": 982,
   "id": "f2f4e6fd",
   "metadata": {},
   "outputs": [],
   "source": [
    "from sklearn.ensemble import RandomForestClassifier"
   ]
  },
  {
   "cell_type": "code",
   "execution_count": 983,
   "id": "8ab4fdaf",
   "metadata": {},
   "outputs": [],
   "source": [
    "rf = RandomForestClassifier(n_estimators=200, random_state=100,criterion='gini')"
   ]
  },
  {
   "cell_type": "code",
   "execution_count": 984,
   "id": "250f8691",
   "metadata": {},
   "outputs": [],
   "source": [
    "rf.fit(X_train, Y_train)\n",
    "Y_pred = dt.predict(X_test)"
   ]
  },
  {
   "cell_type": "code",
   "execution_count": 985,
   "id": "45f67ecf",
   "metadata": {},
   "outputs": [
    {
     "data": {
      "text/plain": [
       "0.9382239382239382"
      ]
     },
     "execution_count": 985,
     "metadata": {},
     "output_type": "execute_result"
    }
   ],
   "source": [
    "accuracy_score(Y_test,Y_pred)"
   ]
  },
  {
   "cell_type": "code",
   "execution_count": 986,
   "id": "6f2c0327",
   "metadata": {},
   "outputs": [],
   "source": [
    "from sklearn.ensemble import AdaBoostClassifier"
   ]
  },
  {
   "cell_type": "code",
   "execution_count": 987,
   "id": "a228d566",
   "metadata": {},
   "outputs": [],
   "source": [
    "adaboost = AdaBoostClassifier(n_estimators=100, random_state=10,learning_rate=0.1)"
   ]
  },
  {
   "cell_type": "code",
   "execution_count": 988,
   "id": "91e41538",
   "metadata": {},
   "outputs": [],
   "source": [
    "adaboost.fit(X_train, Y_train)\n",
    "Y_pred = dt.predict(X_test)"
   ]
  },
  {
   "cell_type": "code",
   "execution_count": 989,
   "id": "a02d1d31",
   "metadata": {},
   "outputs": [
    {
     "data": {
      "text/plain": [
       "0.9382239382239382"
      ]
     },
     "execution_count": 989,
     "metadata": {},
     "output_type": "execute_result"
    }
   ],
   "source": [
    "accuracy_score(Y_test,Y_pred)"
   ]
  },
  {
   "cell_type": "code",
   "execution_count": 990,
   "id": "7eb0a628",
   "metadata": {},
   "outputs": [],
   "source": [
    "from sklearn.ensemble import GradientBoostingClassifier"
   ]
  },
  {
   "cell_type": "code",
   "execution_count": 991,
   "id": "d52443cf",
   "metadata": {},
   "outputs": [],
   "source": [
    "gbc = GradientBoostingClassifier(n_estimators=20,max_depth=3,learning_rate=0.1)"
   ]
  },
  {
   "cell_type": "code",
   "execution_count": 992,
   "id": "30e05add",
   "metadata": {},
   "outputs": [],
   "source": [
    "gbc.fit(X_train, Y_train)\n",
    "Y_pred = dt.predict(X_test)"
   ]
  },
  {
   "cell_type": "code",
   "execution_count": 993,
   "id": "ea0d9d80",
   "metadata": {},
   "outputs": [
    {
     "data": {
      "text/plain": [
       "0.9382239382239382"
      ]
     },
     "execution_count": 993,
     "metadata": {},
     "output_type": "execute_result"
    }
   ],
   "source": [
    "accuracy_score(Y_test,Y_pred)"
   ]
  },
  {
   "cell_type": "code",
   "execution_count": 994,
   "id": "99c01539",
   "metadata": {},
   "outputs": [
    {
     "name": "stderr",
     "output_type": "stream",
     "text": [
      "C:\\Users\\Anaconda\\envs\\py3.7.5\\lib\\site-packages\\sklearn\\utils\\deprecation.py:87: FutureWarning: Function plot_confusion_matrix is deprecated; Function `plot_confusion_matrix` is deprecated in 1.0 and will be removed in 1.2. Use one of the class methods: ConfusionMatrixDisplay.from_predictions or ConfusionMatrixDisplay.from_estimator.\n",
      "  warnings.warn(msg, category=FutureWarning)\n"
     ]
    },
    {
     "data": {
      "image/png": "[encoded data removed]",
      "text/plain": [
       "<Figure size 432x288 with 2 Axes>"
      ]
     },
     "metadata": {
      "needs_background": "light"
     },
     "output_type": "display_data"
    }
   ],
   "source": [
    "from sklearn.metrics import plot_confusion_matrix\n",
    "plot_confusion_matrix(gbc, X_test, Y_test) \n",
    "plt.show()"
   ]
  },
  {
   "cell_type": "code",
   "execution_count": 995,
   "id": "44fc23c2",
   "metadata": {},
   "outputs": [],
   "source": [
    "import xgboost as xgb"
   ]
  },
  {
   "cell_type": "code",
   "execution_count": 996,
   "id": "03361868",
   "metadata": {},
   "outputs": [],
   "source": [
    "xgb = xgb.XGBClassifier(learning_rate=0.01,max_depth=2)"
   ]
  },
  {
   "cell_type": "code",
   "execution_count": 997,
   "id": "4f1259d6",
   "metadata": {},
   "outputs": [
    {
     "data": {
      "text/plain": [
       "XGBClassifier(base_score=0.5, booster='gbtree', colsample_bylevel=1,\n",
       "              colsample_bynode=1, colsample_bytree=1, gamma=0, gpu_id=-1,\n",
       "              importance_type='gain', interaction_constraints='',\n",
       "              learning_rate=0.01, max_delta_step=0, max_depth=2,\n",
       "              min_child_weight=1, missing=nan, monotone_constraints='()',\n",
       "              n_estimators=100, n_jobs=0, num_parallel_tree=1, random_state=0,\n",
       "              reg_alpha=0, reg_lambda=1, scale_pos_weight=1, subsample=1,\n",
       "              tree_method='exact', validate_parameters=1, verbosity=None)"
      ]
     },
     "execution_count": 997,
     "metadata": {},
     "output_type": "execute_result"
    }
   ],
   "source": [
    "xgb.fit(X_train,Y_train)"
   ]
  },
  {
   "cell_type": "code",
   "execution_count": 998,
   "id": "e95b5b20",
   "metadata": {},
   "outputs": [],
   "source": [
    "Y_pred_xgb = xgb.predict(X_test)"
   ]
  },
  {
   "cell_type": "code",
   "execution_count": 999,
   "id": "9b70b6de",
   "metadata": {},
   "outputs": [
    {
     "data": {
      "text/plain": [
       "0.7850707850707851"
      ]
     },
     "execution_count": 999,
     "metadata": {},
     "output_type": "execute_result"
    }
   ],
   "source": [
    "accuracy_score(Y_test,Y_pred_xgb)"
   ]
  },
  {
   "cell_type": "markdown",
   "id": "a7792ebd",
   "metadata": {},
   "source": [
    "cross validation "
   ]
  },
  {
   "cell_type": "code",
   "execution_count": 1000,
   "id": "d51b61a9",
   "metadata": {},
   "outputs": [],
   "source": [
    "gdb_best = GradientBoostingClassifier(learning_rate= 0.1, max_depth= 15, n_estimators= 13)"
   ]
  },
  {
   "cell_type": "code",
   "execution_count": 1001,
   "id": "2e87d329",
   "metadata": {},
   "outputs": [
    {
     "data": {
      "text/plain": [
       "GradientBoostingClassifier(max_depth=15, n_estimators=13)"
      ]
     },
     "execution_count": 1001,
     "metadata": {},
     "output_type": "execute_result"
    }
   ],
   "source": [
    "gdb_best.fit(X_train,Y_train)"
   ]
  },
  {
   "cell_type": "code",
   "execution_count": 1002,
   "id": "3d45bb42",
   "metadata": {},
   "outputs": [],
   "source": [
    "Y_pred = gdb_best.predict(X_test)"
   ]
  },
  {
   "cell_type": "code",
   "execution_count": 1003,
   "id": "de818ae4",
   "metadata": {},
   "outputs": [
    {
     "data": {
      "text/plain": [
       "0.9491634491634492"
      ]
     },
     "execution_count": 1003,
     "metadata": {},
     "output_type": "execute_result"
    }
   ],
   "source": [
    "accuracy_score(Y_test,Y_pred)"
   ]
  },
  {
   "cell_type": "markdown",
   "id": "ca6a2cfb",
   "metadata": {},
   "source": [
    "++++++++++++++++++++++++++++++++++++++++++++++++++++++++++++++++++++++++++++++++++++++++++++++++++++++++++++++++++++++++++\n",
    "Let's retrain the model on the whole dataset now and test the accuracy on unseen data from different dataset"
   ]
  },
  {
   "cell_type": "code",
   "execution_count": 1004,
   "id": "90007a8a",
   "metadata": {},
   "outputs": [
    {
     "data": {
      "text/plain": [
       "(5180, 30)"
      ]
     },
     "execution_count": 1004,
     "metadata": {},
     "output_type": "execute_result"
    }
   ],
   "source": [
    "X.shape"
   ]
  },
  {
   "cell_type": "code",
   "execution_count": 1005,
   "id": "28621477",
   "metadata": {},
   "outputs": [
    {
     "data": {
      "text/plain": [
       "(5180,)"
      ]
     },
     "execution_count": 1005,
     "metadata": {},
     "output_type": "execute_result"
    }
   ],
   "source": [
    "Y.shape"
   ]
  },
  {
   "cell_type": "markdown",
   "id": "9e96a2c6",
   "metadata": {},
   "source": [
    "#### test dataset"
   ]
  },
  {
   "cell_type": "code",
   "execution_count": 1008,
   "id": "ee09dd30",
   "metadata": {
    "scrolled": true
   },
   "outputs": [
    {
     "data": {
      "text/html": [
       "<div>\n",
       "<style scoped>\n",
       "    .dataframe tbody tr th:only-of-type {\n",
       "        vertical-align: middle;\n",
       "    }\n",
       "\n",
       "    .dataframe tbody tr th {\n",
       "        vertical-align: top;\n",
       "    }\n",
       "\n",
       "    .dataframe thead th {\n",
       "        text-align: right;\n",
       "    }\n",
       "</style>\n",
       "<table border=\"1\" class=\"dataframe\">\n",
       "  <thead>\n",
       "    <tr style=\"text-align: right;\">\n",
       "      <th></th>\n",
       "      <th>EmployeeID</th>\n",
       "      <th>Age</th>\n",
       "      <th>TravelProfile</th>\n",
       "      <th>Department</th>\n",
       "      <th>HomeToWork</th>\n",
       "      <th>EducationField</th>\n",
       "      <th>Gender</th>\n",
       "      <th>HourlnWeek</th>\n",
       "      <th>Involvement</th>\n",
       "      <th>WorkLifeBalance</th>\n",
       "      <th>...</th>\n",
       "      <th>JobSatisfaction</th>\n",
       "      <th>ESOPs</th>\n",
       "      <th>NumCompaniesWorked</th>\n",
       "      <th>OverTime</th>\n",
       "      <th>SalaryHikelastYear</th>\n",
       "      <th>WorkExperience</th>\n",
       "      <th>LastPromotion</th>\n",
       "      <th>CurrentProfile</th>\n",
       "      <th>MaritalStatus</th>\n",
       "      <th>MonthlyIncome</th>\n",
       "    </tr>\n",
       "  </thead>\n",
       "  <tbody>\n",
       "    <tr>\n",
       "      <th>0</th>\n",
       "      <td>6110001</td>\n",
       "      <td>18.0</td>\n",
       "      <td>No</td>\n",
       "      <td>NaN</td>\n",
       "      <td>9.0</td>\n",
       "      <td>CA</td>\n",
       "      <td>Male</td>\n",
       "      <td>80.0</td>\n",
       "      <td>3</td>\n",
       "      <td>2</td>\n",
       "      <td>...</td>\n",
       "      <td>3</td>\n",
       "      <td>1</td>\n",
       "      <td>1</td>\n",
       "      <td>0</td>\n",
       "      <td>17.0</td>\n",
       "      <td>0.0</td>\n",
       "      <td>0.0</td>\n",
       "      <td>0.0</td>\n",
       "      <td>Single</td>\n",
       "      <td>16904.0</td>\n",
       "    </tr>\n",
       "    <tr>\n",
       "      <th>1</th>\n",
       "      <td>6110002</td>\n",
       "      <td>20.0</td>\n",
       "      <td>Rarely</td>\n",
       "      <td>Analytics</td>\n",
       "      <td>28.0</td>\n",
       "      <td>Statistics</td>\n",
       "      <td>Female</td>\n",
       "      <td>59.0</td>\n",
       "      <td>1</td>\n",
       "      <td>3</td>\n",
       "      <td>...</td>\n",
       "      <td>1</td>\n",
       "      <td>1</td>\n",
       "      <td>2</td>\n",
       "      <td>1</td>\n",
       "      <td>18.0</td>\n",
       "      <td>2.0</td>\n",
       "      <td>1.0</td>\n",
       "      <td>NaN</td>\n",
       "      <td>Single</td>\n",
       "      <td>18994.0</td>\n",
       "    </tr>\n",
       "    <tr>\n",
       "      <th>2</th>\n",
       "      <td>6110003</td>\n",
       "      <td>50.0</td>\n",
       "      <td>Rarely</td>\n",
       "      <td>Analytics</td>\n",
       "      <td>19.0</td>\n",
       "      <td>CA</td>\n",
       "      <td>Female</td>\n",
       "      <td>76.0</td>\n",
       "      <td>3</td>\n",
       "      <td>3</td>\n",
       "      <td>...</td>\n",
       "      <td>5</td>\n",
       "      <td>0</td>\n",
       "      <td>5</td>\n",
       "      <td>1</td>\n",
       "      <td>22.0</td>\n",
       "      <td>18.0</td>\n",
       "      <td>3.0</td>\n",
       "      <td>3.0</td>\n",
       "      <td>M</td>\n",
       "      <td>18587.0</td>\n",
       "    </tr>\n",
       "    <tr>\n",
       "      <th>3</th>\n",
       "      <td>6110004</td>\n",
       "      <td>32.0</td>\n",
       "      <td>Rarely</td>\n",
       "      <td>Sales</td>\n",
       "      <td>23.0</td>\n",
       "      <td>Statistics</td>\n",
       "      <td>Female</td>\n",
       "      <td>73.0</td>\n",
       "      <td>5</td>\n",
       "      <td>2</td>\n",
       "      <td>...</td>\n",
       "      <td>3</td>\n",
       "      <td>0</td>\n",
       "      <td>4</td>\n",
       "      <td>1</td>\n",
       "      <td>17.0</td>\n",
       "      <td>5.0</td>\n",
       "      <td>3.0</td>\n",
       "      <td>3.0</td>\n",
       "      <td>Married</td>\n",
       "      <td>20559.0</td>\n",
       "    </tr>\n",
       "    <tr>\n",
       "      <th>4</th>\n",
       "      <td>6110005</td>\n",
       "      <td>39.0</td>\n",
       "      <td>Rarely</td>\n",
       "      <td>Analytics</td>\n",
       "      <td>7.0</td>\n",
       "      <td>CA</td>\n",
       "      <td>Male</td>\n",
       "      <td>42.0</td>\n",
       "      <td>4</td>\n",
       "      <td>1</td>\n",
       "      <td>...</td>\n",
       "      <td>5</td>\n",
       "      <td>1</td>\n",
       "      <td>4</td>\n",
       "      <td>0</td>\n",
       "      <td>20.0</td>\n",
       "      <td>9.0</td>\n",
       "      <td>1.0</td>\n",
       "      <td>7.0</td>\n",
       "      <td>Married</td>\n",
       "      <td>24991.0</td>\n",
       "    </tr>\n",
       "  </tbody>\n",
       "</table>\n",
       "<p>5 rows × 21 columns</p>\n",
       "</div>"
      ],
      "text/plain": [
       "   EmployeeID   Age TravelProfile Department  HomeToWork EducationField  \\\n",
       "0     6110001  18.0            No        NaN         9.0             CA   \n",
       "1     6110002  20.0        Rarely  Analytics        28.0     Statistics   \n",
       "2     6110003  50.0        Rarely  Analytics        19.0             CA   \n",
       "3     6110004  32.0        Rarely      Sales        23.0     Statistics   \n",
       "4     6110005  39.0        Rarely  Analytics         7.0             CA   \n",
       "\n",
       "   Gender  HourlnWeek  Involvement  WorkLifeBalance  ... JobSatisfaction  \\\n",
       "0    Male        80.0            3                2  ...               3   \n",
       "1  Female        59.0            1                3  ...               1   \n",
       "2  Female        76.0            3                3  ...               5   \n",
       "3  Female        73.0            5                2  ...               3   \n",
       "4    Male        42.0            4                1  ...               5   \n",
       "\n",
       "   ESOPs  NumCompaniesWorked  OverTime  SalaryHikelastYear  WorkExperience  \\\n",
       "0      1                   1         0                17.0             0.0   \n",
       "1      1                   2         1                18.0             2.0   \n",
       "2      0                   5         1                22.0            18.0   \n",
       "3      0                   4         1                17.0             5.0   \n",
       "4      1                   4         0                20.0             9.0   \n",
       "\n",
       "   LastPromotion  CurrentProfile  MaritalStatus MonthlyIncome  \n",
       "0            0.0             0.0         Single       16904.0  \n",
       "1            1.0             NaN         Single       18994.0  \n",
       "2            3.0             3.0              M       18587.0  \n",
       "3            3.0             3.0        Married       20559.0  \n",
       "4            1.0             7.0        Married       24991.0  \n",
       "\n",
       "[5 rows x 21 columns]"
      ]
     },
     "execution_count": 1008,
     "metadata": {},
     "output_type": "execute_result"
    }
   ],
   "source": [
    "# load the csv file\n",
    "df_employee_test = pd.read_csv('Test_Dataset.csv')\n",
    "\n",
    "# display the first five observations\n",
    "df_employee_test.head()"
   ]
  },
  {
   "cell_type": "code",
   "execution_count": 1010,
   "id": "cc7c99bc",
   "metadata": {},
   "outputs": [
    {
     "data": {
      "text/plain": [
       "(2630, 21)"
      ]
     },
     "execution_count": 1010,
     "metadata": {},
     "output_type": "execute_result"
    }
   ],
   "source": [
    "df_employee_test.shape"
   ]
  },
  {
   "cell_type": "code",
   "execution_count": 1011,
   "id": "2914e4c4",
   "metadata": {},
   "outputs": [
    {
     "data": {
      "text/plain": [
       "EmployeeID              0\n",
       "Age                   142\n",
       "TravelProfile           0\n",
       "Department             58\n",
       "HomeToWork            126\n",
       "EducationField          0\n",
       "Gender                 30\n",
       "HourlnWeek            136\n",
       "Involvement             0\n",
       "WorkLifeBalance         0\n",
       "Designation            30\n",
       "JobSatisfaction         0\n",
       "ESOPs                   0\n",
       "NumCompaniesWorked      0\n",
       "OverTime                0\n",
       "SalaryHikelastYear     94\n",
       "WorkExperience        122\n",
       "LastPromotion          57\n",
       "CurrentProfile        134\n",
       "MaritalStatus           0\n",
       "MonthlyIncome          33\n",
       "dtype: int64"
      ]
     },
     "execution_count": 1011,
     "metadata": {},
     "output_type": "execute_result"
    }
   ],
   "source": [
    "df_employee_test.isna().sum()"
   ]
  },
  {
   "cell_type": "code",
   "execution_count": 1012,
   "id": "680a3261",
   "metadata": {},
   "outputs": [],
   "source": [
    "df_employee_test['Age'].fillna(df_employee_test['Age'].mean(),inplace=True)"
   ]
  },
  {
   "cell_type": "code",
   "execution_count": 1013,
   "id": "d347d62b",
   "metadata": {},
   "outputs": [
    {
     "data": {
      "text/plain": [
       "Analytics    1675\n",
       "Sales         792\n",
       "Marketing     105\n",
       "Name: Department, dtype: int64"
      ]
     },
     "execution_count": 1013,
     "metadata": {},
     "output_type": "execute_result"
    }
   ],
   "source": [
    "df_employee_test['Department'].value_counts()"
   ]
  },
  {
   "cell_type": "code",
   "execution_count": 1014,
   "id": "51aa51ee",
   "metadata": {},
   "outputs": [],
   "source": [
    "df_employee_test['Department'].fillna(df_employee_test['Department'].value_counts().index[0],inplace=True)"
   ]
  },
  {
   "cell_type": "code",
   "execution_count": 1015,
   "id": "2ac9e4ef",
   "metadata": {},
   "outputs": [],
   "source": [
    "df_employee_test['HomeToWork'].fillna(df_employee_test['HomeToWork'].median(),inplace=True)"
   ]
  },
  {
   "cell_type": "code",
   "execution_count": 1016,
   "id": "0f292808",
   "metadata": {},
   "outputs": [
    {
     "data": {
      "text/plain": [
       "array(['Male', 'Female', 'F', nan], dtype=object)"
      ]
     },
     "execution_count": 1016,
     "metadata": {},
     "output_type": "execute_result"
    }
   ],
   "source": [
    "df_employee_test['Gender'].unique()"
   ]
  },
  {
   "cell_type": "code",
   "execution_count": 1017,
   "id": "eed9a9e7",
   "metadata": {},
   "outputs": [
    {
     "data": {
      "text/plain": [
       "Male      1574\n",
       "Female     682\n",
       "F          344\n",
       "Name: Gender, dtype: int64"
      ]
     },
     "execution_count": 1017,
     "metadata": {},
     "output_type": "execute_result"
    }
   ],
   "source": [
    "df_employee_test['Gender'].value_counts()"
   ]
  },
  {
   "cell_type": "code",
   "execution_count": 1018,
   "id": "6e961ff6",
   "metadata": {},
   "outputs": [],
   "source": [
    "df_employee_test['Gender'].fillna('M',inplace=True)"
   ]
  },
  {
   "cell_type": "code",
   "execution_count": 1019,
   "id": "6b1bceb6",
   "metadata": {},
   "outputs": [],
   "source": [
    "df_employee_test['Gender'].replace('Male','M',inplace=True)"
   ]
  },
  {
   "cell_type": "code",
   "execution_count": 1020,
   "id": "eb5a0c09",
   "metadata": {},
   "outputs": [],
   "source": [
    "df_employee_test['Gender'].replace('Female','F',inplace=True)"
   ]
  },
  {
   "cell_type": "code",
   "execution_count": 1021,
   "id": "3705a57b",
   "metadata": {},
   "outputs": [
    {
     "data": {
      "text/plain": [
       "array(['M', 'F'], dtype=object)"
      ]
     },
     "execution_count": 1021,
     "metadata": {},
     "output_type": "execute_result"
    }
   ],
   "source": [
    "df_employee_test['Gender'].unique()"
   ]
  },
  {
   "cell_type": "code",
   "execution_count": 1022,
   "id": "52441df3",
   "metadata": {},
   "outputs": [
    {
     "data": {
      "text/plain": [
       "array(['Single', 'M', 'Married', 'Divorsed'], dtype=object)"
      ]
     },
     "execution_count": 1022,
     "metadata": {},
     "output_type": "execute_result"
    }
   ],
   "source": [
    "df_employee_test['MaritalStatus'].unique()"
   ]
  },
  {
   "cell_type": "code",
   "execution_count": 1023,
   "id": "2fb1cd35",
   "metadata": {},
   "outputs": [],
   "source": [
    "df_employee_test['MaritalStatus'].replace('M','Married',inplace=True)"
   ]
  },
  {
   "cell_type": "code",
   "execution_count": 1024,
   "id": "d0b1d2c1",
   "metadata": {},
   "outputs": [
    {
     "data": {
      "text/plain": [
       "array(['Single', 'Married', 'Divorsed'], dtype=object)"
      ]
     },
     "execution_count": 1024,
     "metadata": {},
     "output_type": "execute_result"
    }
   ],
   "source": [
    "df_employee_test['MaritalStatus'].unique()"
   ]
  },
  {
   "cell_type": "code",
   "execution_count": 1025,
   "id": "86b7d833",
   "metadata": {},
   "outputs": [],
   "source": [
    "df_employee_test['HourlnWeek'].fillna(df_employee_test['HourlnWeek'].median(),inplace=True)"
   ]
  },
  {
   "cell_type": "code",
   "execution_count": 1026,
   "id": "b159e24b",
   "metadata": {},
   "outputs": [],
   "source": [
    "df_employee_test['Designation'].fillna(df_employee_test['Designation'].value_counts().index[0],inplace=True)"
   ]
  },
  {
   "cell_type": "code",
   "execution_count": 1027,
   "id": "c622c621",
   "metadata": {},
   "outputs": [],
   "source": [
    "df_employee_test['SalaryHikelastYear'].fillna(df_employee_test['SalaryHikelastYear'].median(),inplace=True)"
   ]
  },
  {
   "cell_type": "code",
   "execution_count": 1028,
   "id": "a257e7d6",
   "metadata": {},
   "outputs": [],
   "source": [
    "df_employee_test['WorkExperience'].fillna(df_employee_test['WorkExperience'].median(),inplace=True)"
   ]
  },
  {
   "cell_type": "code",
   "execution_count": 1029,
   "id": "e3c4a951",
   "metadata": {},
   "outputs": [],
   "source": [
    "df_employee_test['LastPromotion'].fillna(df_employee_test['LastPromotion'].median(),inplace=True)"
   ]
  },
  {
   "cell_type": "code",
   "execution_count": 1030,
   "id": "139af6ed",
   "metadata": {},
   "outputs": [],
   "source": [
    "df_employee_test['CurrentProfile'].fillna(df_employee_test['CurrentProfile'].median(),inplace=True)"
   ]
  },
  {
   "cell_type": "code",
   "execution_count": 1031,
   "id": "80c79b22",
   "metadata": {},
   "outputs": [],
   "source": [
    "df_employee_test['MonthlyIncome'].fillna(df_employee_test['MonthlyIncome'].median(),inplace=True)"
   ]
  },
  {
   "cell_type": "code",
   "execution_count": 1032,
   "id": "f7c3ff88",
   "metadata": {},
   "outputs": [
    {
     "data": {
      "text/plain": [
       "EmployeeID            0\n",
       "Age                   0\n",
       "TravelProfile         0\n",
       "Department            0\n",
       "HomeToWork            0\n",
       "EducationField        0\n",
       "Gender                0\n",
       "HourlnWeek            0\n",
       "Involvement           0\n",
       "WorkLifeBalance       0\n",
       "Designation           0\n",
       "JobSatisfaction       0\n",
       "ESOPs                 0\n",
       "NumCompaniesWorked    0\n",
       "OverTime              0\n",
       "SalaryHikelastYear    0\n",
       "WorkExperience        0\n",
       "LastPromotion         0\n",
       "CurrentProfile        0\n",
       "MaritalStatus         0\n",
       "MonthlyIncome         0\n",
       "dtype: int64"
      ]
     },
     "execution_count": 1032,
     "metadata": {},
     "output_type": "execute_result"
    }
   ],
   "source": [
    "df_employee_test.isnull().sum()"
   ]
  },
  {
   "cell_type": "code",
   "execution_count": 1033,
   "id": "0965f2bd",
   "metadata": {},
   "outputs": [
    {
     "data": {
      "text/plain": [
       "EmployeeID              int64\n",
       "Age                   float64\n",
       "TravelProfile          object\n",
       "Department             object\n",
       "HomeToWork            float64\n",
       "EducationField         object\n",
       "Gender                 object\n",
       "HourlnWeek            float64\n",
       "Involvement             int64\n",
       "WorkLifeBalance         int64\n",
       "Designation            object\n",
       "JobSatisfaction         int64\n",
       "ESOPs                   int64\n",
       "NumCompaniesWorked      int64\n",
       "OverTime                int64\n",
       "SalaryHikelastYear    float64\n",
       "WorkExperience        float64\n",
       "LastPromotion         float64\n",
       "CurrentProfile        float64\n",
       "MaritalStatus          object\n",
       "MonthlyIncome         float64\n",
       "dtype: object"
      ]
     },
     "execution_count": 1033,
     "metadata": {},
     "output_type": "execute_result"
    }
   ],
   "source": [
    "df_employee_test.dtypes"
   ]
  },
  {
   "cell_type": "code",
   "execution_count": 1034,
   "id": "14c9d4a3",
   "metadata": {},
   "outputs": [],
   "source": [
    "df_num_test = df_employee_test.select_dtypes(include=np.number)"
   ]
  },
  {
   "cell_type": "code",
   "execution_count": 1035,
   "id": "1aabcb3a",
   "metadata": {},
   "outputs": [
    {
     "data": {
      "text/plain": [
       "Index(['EmployeeID', 'Age', 'HomeToWork', 'HourlnWeek', 'Involvement',\n",
       "       'WorkLifeBalance', 'JobSatisfaction', 'ESOPs', 'NumCompaniesWorked',\n",
       "       'OverTime', 'SalaryHikelastYear', 'WorkExperience', 'LastPromotion',\n",
       "       'CurrentProfile', 'MonthlyIncome'],\n",
       "      dtype='object')"
      ]
     },
     "execution_count": 1035,
     "metadata": {},
     "output_type": "execute_result"
    }
   ],
   "source": [
    "df_num_test.columns"
   ]
  },
  {
   "cell_type": "code",
   "execution_count": 1036,
   "id": "f3c55f9d",
   "metadata": {},
   "outputs": [
    {
     "name": "stderr",
     "output_type": "stream",
     "text": [
      "C:\\Users\\Anaconda\\envs\\py3.7.5\\lib\\site-packages\\seaborn\\_decorators.py:43: FutureWarning: Pass the following variable as a keyword arg: x. From version 0.12, the only valid positional argument will be `data`, and passing other arguments without an explicit keyword will result in an error or misinterpretation.\n",
      "  FutureWarning\n"
     ]
    },
    {
     "data": {
      "text/plain": [
       "<AxesSubplot:xlabel='Age'>"
      ]
     },
     "execution_count": 1036,
     "metadata": {},
     "output_type": "execute_result"
    },
    {
     "data": {
      "image/png": "[encoded data removed]",
      "text/plain": [
       "<Figure size 432x288 with 1 Axes>"
      ]
     },
     "metadata": {
      "needs_background": "light"
     },
     "output_type": "display_data"
    }
   ],
   "source": [
    "sns.boxplot(df_employee_test['Age'])"
   ]
  },
  {
   "cell_type": "code",
   "execution_count": 1037,
   "id": "0d57584a",
   "metadata": {},
   "outputs": [
    {
     "name": "stderr",
     "output_type": "stream",
     "text": [
      "C:\\Users\\Anaconda\\envs\\py3.7.5\\lib\\site-packages\\seaborn\\_decorators.py:43: FutureWarning: Pass the following variable as a keyword arg: x. From version 0.12, the only valid positional argument will be `data`, and passing other arguments without an explicit keyword will result in an error or misinterpretation.\n",
      "  FutureWarning\n"
     ]
    },
    {
     "data": {
      "text/plain": [
       "<AxesSubplot:xlabel='HomeToWork'>"
      ]
     },
     "execution_count": 1037,
     "metadata": {},
     "output_type": "execute_result"
    },
    {
     "data": {
      "image/png": "[encoded data removed]",
      "text/plain": [
       "<Figure size 432x288 with 1 Axes>"
      ]
     },
     "metadata": {
      "needs_background": "light"
     },
     "output_type": "display_data"
    }
   ],
   "source": [
    "sns.boxplot(df_employee_test['HomeToWork'])"
   ]
  },
  {
   "cell_type": "code",
   "execution_count": 1038,
   "id": "651997c4",
   "metadata": {},
   "outputs": [
    {
     "data": {
      "text/plain": [
       "32.0"
      ]
     },
     "execution_count": 1038,
     "metadata": {},
     "output_type": "execute_result"
    }
   ],
   "source": [
    "df_employee_test['HomeToWork'].quantile(.99)"
   ]
  },
  {
   "cell_type": "code",
   "execution_count": 1039,
   "id": "b18f7fb8",
   "metadata": {},
   "outputs": [],
   "source": [
    "df_employee_test.loc[df_employee_test['HomeToWork']> df_employee_test['HomeToWork'].quantile(.99),'HomeToWork'] = df_employee_test['HomeToWork'].quantile(.99)"
   ]
  },
  {
   "cell_type": "code",
   "execution_count": 1040,
   "id": "01c6a8b4",
   "metadata": {},
   "outputs": [
    {
     "name": "stderr",
     "output_type": "stream",
     "text": [
      "C:\\Users\\Anaconda\\envs\\py3.7.5\\lib\\site-packages\\seaborn\\_decorators.py:43: FutureWarning: Pass the following variable as a keyword arg: x. From version 0.12, the only valid positional argument will be `data`, and passing other arguments without an explicit keyword will result in an error or misinterpretation.\n",
      "  FutureWarning\n"
     ]
    },
    {
     "data": {
      "text/plain": [
       "<AxesSubplot:xlabel='HomeToWork'>"
      ]
     },
     "execution_count": 1040,
     "metadata": {},
     "output_type": "execute_result"
    },
    {
     "data": {
      "image/png": "[encoded data removed]",
      "text/plain": [
       "<Figure size 432x288 with 1 Axes>"
      ]
     },
     "metadata": {
      "needs_background": "light"
     },
     "output_type": "display_data"
    }
   ],
   "source": [
    "sns.boxplot(df_employee_test['HomeToWork'])"
   ]
  },
  {
   "cell_type": "code",
   "execution_count": 1041,
   "id": "f03f8c23",
   "metadata": {},
   "outputs": [
    {
     "name": "stderr",
     "output_type": "stream",
     "text": [
      "C:\\Users\\Anaconda\\envs\\py3.7.5\\lib\\site-packages\\seaborn\\_decorators.py:43: FutureWarning: Pass the following variable as a keyword arg: x. From version 0.12, the only valid positional argument will be `data`, and passing other arguments without an explicit keyword will result in an error or misinterpretation.\n",
      "  FutureWarning\n"
     ]
    },
    {
     "data": {
      "text/plain": [
       "<AxesSubplot:xlabel='HourlnWeek'>"
      ]
     },
     "execution_count": 1041,
     "metadata": {},
     "output_type": "execute_result"
    },
    {
     "data": {
      "image/png": "[encoded data removed]",
      "text/plain": [
       "<Figure size 432x288 with 1 Axes>"
      ]
     },
     "metadata": {
      "needs_background": "light"
     },
     "output_type": "display_data"
    }
   ],
   "source": [
    "sns.boxplot(df_employee_test['HourlnWeek'])"
   ]
  },
  {
   "cell_type": "code",
   "execution_count": 1042,
   "id": "bc509033",
   "metadata": {},
   "outputs": [
    {
     "data": {
      "text/plain": [
       "30.0"
      ]
     },
     "execution_count": 1042,
     "metadata": {},
     "output_type": "execute_result"
    }
   ],
   "source": [
    "df_employee_test['HourlnWeek'].quantile(0.005)"
   ]
  },
  {
   "cell_type": "code",
   "execution_count": 1043,
   "id": "83dfa9c4",
   "metadata": {},
   "outputs": [],
   "source": [
    "df_employee_test.loc[df_employee_test['HourlnWeek'] < df_employee_test['HourlnWeek'].quantile(.005),'HourlnWeek'] = df_employee_test['HourlnWeek'].quantile(.005)"
   ]
  },
  {
   "cell_type": "code",
   "execution_count": 1044,
   "id": "f7c77625",
   "metadata": {},
   "outputs": [
    {
     "name": "stderr",
     "output_type": "stream",
     "text": [
      "C:\\Users\\Anaconda\\envs\\py3.7.5\\lib\\site-packages\\seaborn\\_decorators.py:43: FutureWarning: Pass the following variable as a keyword arg: x. From version 0.12, the only valid positional argument will be `data`, and passing other arguments without an explicit keyword will result in an error or misinterpretation.\n",
      "  FutureWarning\n"
     ]
    },
    {
     "data": {
      "text/plain": [
       "<AxesSubplot:xlabel='HourlnWeek'>"
      ]
     },
     "execution_count": 1044,
     "metadata": {},
     "output_type": "execute_result"
    },
    {
     "data": {
      "image/png": "[encoded data removed]",
      "text/plain": [
       "<Figure size 432x288 with 1 Axes>"
      ]
     },
     "metadata": {
      "needs_background": "light"
     },
     "output_type": "display_data"
    }
   ],
   "source": [
    "sns.boxplot(df_employee_test['HourlnWeek'])"
   ]
  },
  {
   "cell_type": "code",
   "execution_count": 1045,
   "id": "4713c3ff",
   "metadata": {},
   "outputs": [
    {
     "data": {
      "text/plain": [
       "99.74200000000019"
      ]
     },
     "execution_count": 1045,
     "metadata": {},
     "output_type": "execute_result"
    }
   ],
   "source": [
    "df_employee_test['HourlnWeek'].quantile(0.999)"
   ]
  },
  {
   "cell_type": "code",
   "execution_count": 1046,
   "id": "b219d243",
   "metadata": {},
   "outputs": [],
   "source": [
    "df_employee_test.loc[df_employee_test['HourlnWeek'] > df_employee_test['HourlnWeek'].quantile(.999),'HourlnWeek'] = df_employee_test['HourlnWeek'].quantile(.999)"
   ]
  },
  {
   "cell_type": "code",
   "execution_count": 1047,
   "id": "29106685",
   "metadata": {},
   "outputs": [
    {
     "name": "stderr",
     "output_type": "stream",
     "text": [
      "C:\\Users\\Anaconda\\envs\\py3.7.5\\lib\\site-packages\\seaborn\\_decorators.py:43: FutureWarning: Pass the following variable as a keyword arg: x. From version 0.12, the only valid positional argument will be `data`, and passing other arguments without an explicit keyword will result in an error or misinterpretation.\n",
      "  FutureWarning\n"
     ]
    },
    {
     "data": {
      "text/plain": [
       "<AxesSubplot:xlabel='HourlnWeek'>"
      ]
     },
     "execution_count": 1047,
     "metadata": {},
     "output_type": "execute_result"
    },
    {
     "data": {
      "image/png": "[encoded data removed]",
      "text/plain": [
       "<Figure size 432x288 with 1 Axes>"
      ]
     },
     "metadata": {
      "needs_background": "light"
     },
     "output_type": "display_data"
    }
   ],
   "source": [
    "sns.boxplot(df_employee_test['HourlnWeek'])"
   ]
  },
  {
   "cell_type": "code",
   "execution_count": 1048,
   "id": "63e0c96e",
   "metadata": {},
   "outputs": [
    {
     "name": "stderr",
     "output_type": "stream",
     "text": [
      "C:\\Users\\Anaconda\\envs\\py3.7.5\\lib\\site-packages\\seaborn\\_decorators.py:43: FutureWarning: Pass the following variable as a keyword arg: x. From version 0.12, the only valid positional argument will be `data`, and passing other arguments without an explicit keyword will result in an error or misinterpretation.\n",
      "  FutureWarning\n"
     ]
    },
    {
     "data": {
      "text/plain": [
       "<AxesSubplot:xlabel='Involvement'>"
      ]
     },
     "execution_count": 1048,
     "metadata": {},
     "output_type": "execute_result"
    },
    {
     "data": {
      "image/png": "[encoded data removed]",
      "text/plain": [
       "<Figure size 432x288 with 1 Axes>"
      ]
     },
     "metadata": {
      "needs_background": "light"
     },
     "output_type": "display_data"
    }
   ],
   "source": [
    "sns.boxplot(df_employee_test['Involvement'])"
   ]
  },
  {
   "cell_type": "code",
   "execution_count": 1049,
   "id": "8d610029",
   "metadata": {},
   "outputs": [
    {
     "data": {
      "text/plain": [
       "5.0"
      ]
     },
     "execution_count": 1049,
     "metadata": {},
     "output_type": "execute_result"
    }
   ],
   "source": [
    "df_employee_test['Involvement'].quantile(0.96)"
   ]
  },
  {
   "cell_type": "code",
   "execution_count": 1050,
   "id": "09e0c2f6",
   "metadata": {},
   "outputs": [],
   "source": [
    "df_employee_test.loc[df_employee_test['Involvement'] > df_employee_test['Involvement'].quantile(.96),'Involvement'] = df_employee_test['Involvement'].quantile(.96)"
   ]
  },
  {
   "cell_type": "code",
   "execution_count": 1051,
   "id": "54d2e83a",
   "metadata": {},
   "outputs": [
    {
     "name": "stderr",
     "output_type": "stream",
     "text": [
      "C:\\Users\\Anaconda\\envs\\py3.7.5\\lib\\site-packages\\seaborn\\_decorators.py:43: FutureWarning: Pass the following variable as a keyword arg: x. From version 0.12, the only valid positional argument will be `data`, and passing other arguments without an explicit keyword will result in an error or misinterpretation.\n",
      "  FutureWarning\n"
     ]
    },
    {
     "data": {
      "text/plain": [
       "<AxesSubplot:xlabel='Involvement'>"
      ]
     },
     "execution_count": 1051,
     "metadata": {},
     "output_type": "execute_result"
    },
    {
     "data": {
      "image/png": "[encoded data removed]",
      "text/plain": [
       "<Figure size 432x288 with 1 Axes>"
      ]
     },
     "metadata": {
      "needs_background": "light"
     },
     "output_type": "display_data"
    }
   ],
   "source": [
    "sns.boxplot(df_employee_test['Involvement'])"
   ]
  },
  {
   "cell_type": "code",
   "execution_count": 1052,
   "id": "c0764812",
   "metadata": {},
   "outputs": [
    {
     "data": {
      "text/plain": [
       "2.0"
      ]
     },
     "execution_count": 1052,
     "metadata": {},
     "output_type": "execute_result"
    }
   ],
   "source": [
    "df_employee_test['Involvement'].quantile(0.07)"
   ]
  },
  {
   "cell_type": "code",
   "execution_count": 1053,
   "id": "7ee41b45",
   "metadata": {},
   "outputs": [],
   "source": [
    "df_employee_test.loc[df_employee_test['Involvement'] < df_employee_test['Involvement'].quantile(.07),'Involvement'] = df_employee_test['Involvement'].quantile(.07)"
   ]
  },
  {
   "cell_type": "code",
   "execution_count": 1054,
   "id": "21d1a7a6",
   "metadata": {},
   "outputs": [
    {
     "name": "stderr",
     "output_type": "stream",
     "text": [
      "C:\\Users\\Anaconda\\envs\\py3.7.5\\lib\\site-packages\\seaborn\\_decorators.py:43: FutureWarning: Pass the following variable as a keyword arg: x. From version 0.12, the only valid positional argument will be `data`, and passing other arguments without an explicit keyword will result in an error or misinterpretation.\n",
      "  FutureWarning\n"
     ]
    },
    {
     "data": {
      "text/plain": [
       "<AxesSubplot:xlabel='Involvement'>"
      ]
     },
     "execution_count": 1054,
     "metadata": {},
     "output_type": "execute_result"
    },
    {
     "data": {
      "image/png": "[encoded data removed]",
      "text/plain": [
       "<Figure size 432x288 with 1 Axes>"
      ]
     },
     "metadata": {
      "needs_background": "light"
     },
     "output_type": "display_data"
    }
   ],
   "source": [
    "sns.boxplot(df_employee_test['Involvement'])"
   ]
  },
  {
   "cell_type": "code",
   "execution_count": 1055,
   "id": "7f99fb2c",
   "metadata": {},
   "outputs": [
    {
     "name": "stderr",
     "output_type": "stream",
     "text": [
      "C:\\Users\\Anaconda\\envs\\py3.7.5\\lib\\site-packages\\seaborn\\_decorators.py:43: FutureWarning: Pass the following variable as a keyword arg: x. From version 0.12, the only valid positional argument will be `data`, and passing other arguments without an explicit keyword will result in an error or misinterpretation.\n",
      "  FutureWarning\n"
     ]
    },
    {
     "data": {
      "text/plain": [
       "<AxesSubplot:xlabel='WorkLifeBalance'>"
      ]
     },
     "execution_count": 1055,
     "metadata": {},
     "output_type": "execute_result"
    },
    {
     "data": {
      "image/png": "[encoded data removed]",
      "text/plain": [
       "<Figure size 432x288 with 1 Axes>"
      ]
     },
     "metadata": {
      "needs_background": "light"
     },
     "output_type": "display_data"
    }
   ],
   "source": [
    "sns.boxplot(df_employee_test['WorkLifeBalance'])"
   ]
  },
  {
   "cell_type": "code",
   "execution_count": 1056,
   "id": "3357d091",
   "metadata": {},
   "outputs": [
    {
     "name": "stderr",
     "output_type": "stream",
     "text": [
      "C:\\Users\\Anaconda\\envs\\py3.7.5\\lib\\site-packages\\seaborn\\_decorators.py:43: FutureWarning: Pass the following variable as a keyword arg: x. From version 0.12, the only valid positional argument will be `data`, and passing other arguments without an explicit keyword will result in an error or misinterpretation.\n",
      "  FutureWarning\n"
     ]
    },
    {
     "data": {
      "text/plain": [
       "<AxesSubplot:xlabel='JobSatisfaction'>"
      ]
     },
     "execution_count": 1056,
     "metadata": {},
     "output_type": "execute_result"
    },
    {
     "data": {
      "image/png": "[encoded data removed]",
      "text/plain": [
       "<Figure size 432x288 with 1 Axes>"
      ]
     },
     "metadata": {
      "needs_background": "light"
     },
     "output_type": "display_data"
    }
   ],
   "source": [
    "sns.boxplot(df_employee_test['JobSatisfaction'])"
   ]
  },
  {
   "cell_type": "code",
   "execution_count": 1057,
   "id": "8e85a4e4",
   "metadata": {},
   "outputs": [
    {
     "name": "stderr",
     "output_type": "stream",
     "text": [
      "C:\\Users\\Anaconda\\envs\\py3.7.5\\lib\\site-packages\\seaborn\\_decorators.py:43: FutureWarning: Pass the following variable as a keyword arg: x. From version 0.12, the only valid positional argument will be `data`, and passing other arguments without an explicit keyword will result in an error or misinterpretation.\n",
      "  FutureWarning\n"
     ]
    },
    {
     "data": {
      "text/plain": [
       "<AxesSubplot:xlabel='ESOPs'>"
      ]
     },
     "execution_count": 1057,
     "metadata": {},
     "output_type": "execute_result"
    },
    {
     "data": {
      "image/png": "[encoded data removed]",
      "text/plain": [
       "<Figure size 432x288 with 1 Axes>"
      ]
     },
     "metadata": {
      "needs_background": "light"
     },
     "output_type": "display_data"
    }
   ],
   "source": [
    "sns.boxplot(df_employee_test['ESOPs'])"
   ]
  },
  {
   "cell_type": "code",
   "execution_count": 1058,
   "id": "36b984d7",
   "metadata": {},
   "outputs": [
    {
     "data": {
      "text/plain": [
       "1.0"
      ]
     },
     "execution_count": 1058,
     "metadata": {},
     "output_type": "execute_result"
    }
   ],
   "source": [
    "df_employee_test['ESOPs'].quantile(0.96)"
   ]
  },
  {
   "cell_type": "code",
   "execution_count": 1059,
   "id": "77b36e2a",
   "metadata": {},
   "outputs": [],
   "source": [
    "df_employee_test.loc[df_employee_test['ESOPs'] > df_employee_test['ESOPs'].quantile(.96),'ESOPs'] = df_employee_test['ESOPs'].quantile(.96)"
   ]
  },
  {
   "cell_type": "code",
   "execution_count": 1060,
   "id": "0c308fd6",
   "metadata": {},
   "outputs": [
    {
     "name": "stderr",
     "output_type": "stream",
     "text": [
      "C:\\Users\\Anaconda\\envs\\py3.7.5\\lib\\site-packages\\seaborn\\_decorators.py:43: FutureWarning: Pass the following variable as a keyword arg: x. From version 0.12, the only valid positional argument will be `data`, and passing other arguments without an explicit keyword will result in an error or misinterpretation.\n",
      "  FutureWarning\n"
     ]
    },
    {
     "data": {
      "text/plain": [
       "<AxesSubplot:xlabel='ESOPs'>"
      ]
     },
     "execution_count": 1060,
     "metadata": {},
     "output_type": "execute_result"
    },
    {
     "data": {
      "image/png": "[encoded data removed]",
      "text/plain": [
       "<Figure size 432x288 with 1 Axes>"
      ]
     },
     "metadata": {
      "needs_background": "light"
     },
     "output_type": "display_data"
    }
   ],
   "source": [
    "sns.boxplot(df_employee_test['ESOPs'])"
   ]
  },
  {
   "cell_type": "code",
   "execution_count": 1061,
   "id": "a55558bc",
   "metadata": {},
   "outputs": [
    {
     "name": "stderr",
     "output_type": "stream",
     "text": [
      "C:\\Users\\Anaconda\\envs\\py3.7.5\\lib\\site-packages\\seaborn\\_decorators.py:43: FutureWarning: Pass the following variable as a keyword arg: x. From version 0.12, the only valid positional argument will be `data`, and passing other arguments without an explicit keyword will result in an error or misinterpretation.\n",
      "  FutureWarning\n"
     ]
    },
    {
     "data": {
      "text/plain": [
       "<AxesSubplot:xlabel='NumCompaniesWorked'>"
      ]
     },
     "execution_count": 1061,
     "metadata": {},
     "output_type": "execute_result"
    },
    {
     "data": {
      "image/png": "[encoded data removed]",
      "text/plain": [
       "<Figure size 432x288 with 1 Axes>"
      ]
     },
     "metadata": {
      "needs_background": "light"
     },
     "output_type": "display_data"
    }
   ],
   "source": [
    "sns.boxplot(df_employee_test['NumCompaniesWorked'])"
   ]
  },
  {
   "cell_type": "code",
   "execution_count": 1062,
   "id": "c0a60eea",
   "metadata": {},
   "outputs": [
    {
     "data": {
      "text/plain": [
       "9.420000000000073"
      ]
     },
     "execution_count": 1062,
     "metadata": {},
     "output_type": "execute_result"
    }
   ],
   "source": [
    "df_employee_test['NumCompaniesWorked'].quantile(0.98)"
   ]
  },
  {
   "cell_type": "code",
   "execution_count": 1063,
   "id": "abcf53c6",
   "metadata": {},
   "outputs": [],
   "source": [
    "df_employee_test.loc[df_employee_test['NumCompaniesWorked'] > df_employee_test['NumCompaniesWorked'].quantile(.98),'NumCompaniesWorked'] = df_employee_test['NumCompaniesWorked'].quantile(.98)"
   ]
  },
  {
   "cell_type": "code",
   "execution_count": 1064,
   "id": "533e4edc",
   "metadata": {},
   "outputs": [
    {
     "name": "stderr",
     "output_type": "stream",
     "text": [
      "C:\\Users\\Anaconda\\envs\\py3.7.5\\lib\\site-packages\\seaborn\\_decorators.py:43: FutureWarning: Pass the following variable as a keyword arg: x. From version 0.12, the only valid positional argument will be `data`, and passing other arguments without an explicit keyword will result in an error or misinterpretation.\n",
      "  FutureWarning\n"
     ]
    },
    {
     "data": {
      "text/plain": [
       "<AxesSubplot:xlabel='NumCompaniesWorked'>"
      ]
     },
     "execution_count": 1064,
     "metadata": {},
     "output_type": "execute_result"
    },
    {
     "data": {
      "image/png": "[encoded data removed]",
      "text/plain": [
       "<Figure size 432x288 with 1 Axes>"
      ]
     },
     "metadata": {
      "needs_background": "light"
     },
     "output_type": "display_data"
    }
   ],
   "source": [
    "sns.boxplot(df_employee_test['NumCompaniesWorked'])"
   ]
  },
  {
   "cell_type": "code",
   "execution_count": 1065,
   "id": "db11a3fb",
   "metadata": {},
   "outputs": [
    {
     "name": "stderr",
     "output_type": "stream",
     "text": [
      "C:\\Users\\Anaconda\\envs\\py3.7.5\\lib\\site-packages\\seaborn\\_decorators.py:43: FutureWarning: Pass the following variable as a keyword arg: x. From version 0.12, the only valid positional argument will be `data`, and passing other arguments without an explicit keyword will result in an error or misinterpretation.\n",
      "  FutureWarning\n"
     ]
    },
    {
     "data": {
      "text/plain": [
       "<AxesSubplot:xlabel='OverTime'>"
      ]
     },
     "execution_count": 1065,
     "metadata": {},
     "output_type": "execute_result"
    },
    {
     "data": {
      "image/png": "[encoded data removed]",
      "text/plain": [
       "<Figure size 432x288 with 1 Axes>"
      ]
     },
     "metadata": {
      "needs_background": "light"
     },
     "output_type": "display_data"
    }
   ],
   "source": [
    "sns.boxplot(df_employee_test['OverTime'])"
   ]
  },
  {
   "cell_type": "code",
   "execution_count": 1066,
   "id": "d6032b36",
   "metadata": {},
   "outputs": [
    {
     "data": {
      "text/plain": [
       "1.0"
      ]
     },
     "execution_count": 1066,
     "metadata": {},
     "output_type": "execute_result"
    }
   ],
   "source": [
    "df_employee_test['OverTime'].quantile(0.98)"
   ]
  },
  {
   "cell_type": "code",
   "execution_count": 1067,
   "id": "45213a14",
   "metadata": {},
   "outputs": [],
   "source": [
    "df_employee_test.loc[df_employee_test['OverTime'] > df_employee_test['OverTime'].quantile(.98),'OverTime'] = df_employee_test['OverTime'].quantile(.98)"
   ]
  },
  {
   "cell_type": "code",
   "execution_count": 1068,
   "id": "4e91ed98",
   "metadata": {},
   "outputs": [
    {
     "name": "stderr",
     "output_type": "stream",
     "text": [
      "C:\\Users\\Anaconda\\envs\\py3.7.5\\lib\\site-packages\\seaborn\\_decorators.py:43: FutureWarning: Pass the following variable as a keyword arg: x. From version 0.12, the only valid positional argument will be `data`, and passing other arguments without an explicit keyword will result in an error or misinterpretation.\n",
      "  FutureWarning\n"
     ]
    },
    {
     "data": {
      "text/plain": [
       "<AxesSubplot:xlabel='OverTime'>"
      ]
     },
     "execution_count": 1068,
     "metadata": {},
     "output_type": "execute_result"
    },
    {
     "data": {
      "image/png": "[encoded data removed]",
      "text/plain": [
       "<Figure size 432x288 with 1 Axes>"
      ]
     },
     "metadata": {
      "needs_background": "light"
     },
     "output_type": "display_data"
    }
   ],
   "source": [
    "sns.boxplot(df_employee_test['OverTime'])"
   ]
  },
  {
   "cell_type": "code",
   "execution_count": 1069,
   "id": "9ef57e7c",
   "metadata": {},
   "outputs": [
    {
     "name": "stderr",
     "output_type": "stream",
     "text": [
      "C:\\Users\\Anaconda\\envs\\py3.7.5\\lib\\site-packages\\seaborn\\_decorators.py:43: FutureWarning: Pass the following variable as a keyword arg: x. From version 0.12, the only valid positional argument will be `data`, and passing other arguments without an explicit keyword will result in an error or misinterpretation.\n",
      "  FutureWarning\n"
     ]
    },
    {
     "data": {
      "text/plain": [
       "<AxesSubplot:xlabel='SalaryHikelastYear'>"
      ]
     },
     "execution_count": 1069,
     "metadata": {},
     "output_type": "execute_result"
    },
    {
     "data": {
      "image/png": "[encoded data removed]",
      "text/plain": [
       "<Figure size 432x288 with 1 Axes>"
      ]
     },
     "metadata": {
      "needs_background": "light"
     },
     "output_type": "display_data"
    }
   ],
   "source": [
    "sns.boxplot(df_employee_test['SalaryHikelastYear'])"
   ]
  },
  {
   "cell_type": "code",
   "execution_count": 1070,
   "id": "a68289db",
   "metadata": {},
   "outputs": [
    {
     "data": {
      "text/plain": [
       "30.0"
      ]
     },
     "execution_count": 1070,
     "metadata": {},
     "output_type": "execute_result"
    }
   ],
   "source": [
    "df_employee_test['SalaryHikelastYear'].quantile(0.98)"
   ]
  },
  {
   "cell_type": "code",
   "execution_count": 1071,
   "id": "08b634f2",
   "metadata": {},
   "outputs": [],
   "source": [
    "df_employee_test.loc[df_employee_test['SalaryHikelastYear'] > df_employee_test['SalaryHikelastYear'].quantile(.98),'SalaryHikelastYear'] = df_employee_test['SalaryHikelastYear'].quantile(.98)"
   ]
  },
  {
   "cell_type": "code",
   "execution_count": 1072,
   "id": "ce11f3d2",
   "metadata": {},
   "outputs": [
    {
     "name": "stderr",
     "output_type": "stream",
     "text": [
      "C:\\Users\\Anaconda\\envs\\py3.7.5\\lib\\site-packages\\seaborn\\_decorators.py:43: FutureWarning: Pass the following variable as a keyword arg: x. From version 0.12, the only valid positional argument will be `data`, and passing other arguments without an explicit keyword will result in an error or misinterpretation.\n",
      "  FutureWarning\n"
     ]
    },
    {
     "data": {
      "text/plain": [
       "<AxesSubplot:xlabel='SalaryHikelastYear'>"
      ]
     },
     "execution_count": 1072,
     "metadata": {},
     "output_type": "execute_result"
    },
    {
     "data": {
      "image/png": "[encoded data removed]",
      "text/plain": [
       "<Figure size 432x288 with 1 Axes>"
      ]
     },
     "metadata": {
      "needs_background": "light"
     },
     "output_type": "display_data"
    }
   ],
   "source": [
    "sns.boxplot(df_employee_test['SalaryHikelastYear'])"
   ]
  },
  {
   "cell_type": "code",
   "execution_count": 1073,
   "id": "a8253cd0",
   "metadata": {},
   "outputs": [
    {
     "name": "stderr",
     "output_type": "stream",
     "text": [
      "C:\\Users\\Anaconda\\envs\\py3.7.5\\lib\\site-packages\\seaborn\\_decorators.py:43: FutureWarning: Pass the following variable as a keyword arg: x. From version 0.12, the only valid positional argument will be `data`, and passing other arguments without an explicit keyword will result in an error or misinterpretation.\n",
      "  FutureWarning\n"
     ]
    },
    {
     "data": {
      "text/plain": [
       "<AxesSubplot:xlabel='WorkExperience'>"
      ]
     },
     "execution_count": 1073,
     "metadata": {},
     "output_type": "execute_result"
    },
    {
     "data": {
      "image/png": "[encoded data removed]",
      "text/plain": [
       "<Figure size 432x288 with 1 Axes>"
      ]
     },
     "metadata": {
      "needs_background": "light"
     },
     "output_type": "display_data"
    }
   ],
   "source": [
    "sns.boxplot(df_employee_test['WorkExperience'])"
   ]
  },
  {
   "cell_type": "code",
   "execution_count": 1074,
   "id": "f74f23db",
   "metadata": {},
   "outputs": [
    {
     "data": {
      "text/plain": [
       "33.42000000000007"
      ]
     },
     "execution_count": 1074,
     "metadata": {},
     "output_type": "execute_result"
    }
   ],
   "source": [
    "df_employee_test['WorkExperience'].quantile(.98)"
   ]
  },
  {
   "cell_type": "code",
   "execution_count": 1075,
   "id": "ab5d2445",
   "metadata": {},
   "outputs": [],
   "source": [
    "df_employee_test.loc[df_employee_test['WorkExperience']>df_employee_test['WorkExperience'].quantile(.98),'WorkExperience'] = df_employee_test['WorkExperience'].quantile(.98)"
   ]
  },
  {
   "cell_type": "code",
   "execution_count": 1076,
   "id": "9732e2aa",
   "metadata": {},
   "outputs": [
    {
     "name": "stderr",
     "output_type": "stream",
     "text": [
      "C:\\Users\\Anaconda\\envs\\py3.7.5\\lib\\site-packages\\seaborn\\_decorators.py:43: FutureWarning: Pass the following variable as a keyword arg: x. From version 0.12, the only valid positional argument will be `data`, and passing other arguments without an explicit keyword will result in an error or misinterpretation.\n",
      "  FutureWarning\n"
     ]
    },
    {
     "data": {
      "text/plain": [
       "<AxesSubplot:xlabel='WorkExperience'>"
      ]
     },
     "execution_count": 1076,
     "metadata": {},
     "output_type": "execute_result"
    },
    {
     "data": {
      "image/png": "[encoded data removed]",
      "text/plain": [
       "<Figure size 432x288 with 1 Axes>"
      ]
     },
     "metadata": {
      "needs_background": "light"
     },
     "output_type": "display_data"
    }
   ],
   "source": [
    "sns.boxplot(df_employee_test['WorkExperience'])"
   ]
  },
  {
   "cell_type": "code",
   "execution_count": 1077,
   "id": "611477ca",
   "metadata": {},
   "outputs": [
    {
     "name": "stderr",
     "output_type": "stream",
     "text": [
      "C:\\Users\\Anaconda\\envs\\py3.7.5\\lib\\site-packages\\seaborn\\_decorators.py:43: FutureWarning: Pass the following variable as a keyword arg: x. From version 0.12, the only valid positional argument will be `data`, and passing other arguments without an explicit keyword will result in an error or misinterpretation.\n",
      "  FutureWarning\n"
     ]
    },
    {
     "data": {
      "text/plain": [
       "<AxesSubplot:xlabel='LastPromotion'>"
      ]
     },
     "execution_count": 1077,
     "metadata": {},
     "output_type": "execute_result"
    },
    {
     "data": {
      "image/png": "[encoded data removed]",
      "text/plain": [
       "<Figure size 432x288 with 1 Axes>"
      ]
     },
     "metadata": {
      "needs_background": "light"
     },
     "output_type": "display_data"
    }
   ],
   "source": [
    "sns.boxplot(df_employee_test['LastPromotion'])"
   ]
  },
  {
   "cell_type": "code",
   "execution_count": 1078,
   "id": "11cfe1e0",
   "metadata": {},
   "outputs": [
    {
     "data": {
      "text/plain": [
       "8.0"
      ]
     },
     "execution_count": 1078,
     "metadata": {},
     "output_type": "execute_result"
    }
   ],
   "source": [
    "df_employee_test['LastPromotion'].quantile(0.90)"
   ]
  },
  {
   "cell_type": "code",
   "execution_count": 1079,
   "id": "5988f353",
   "metadata": {},
   "outputs": [],
   "source": [
    "df_employee_test.loc[df_employee_test['LastPromotion']>df_employee_test['LastPromotion'].quantile(0.90),'LastPromotion']=df_employee_test['LastPromotion'].quantile(0.90)"
   ]
  },
  {
   "cell_type": "code",
   "execution_count": 1080,
   "id": "9335ab93",
   "metadata": {},
   "outputs": [
    {
     "name": "stderr",
     "output_type": "stream",
     "text": [
      "C:\\Users\\Anaconda\\envs\\py3.7.5\\lib\\site-packages\\seaborn\\_decorators.py:43: FutureWarning: Pass the following variable as a keyword arg: x. From version 0.12, the only valid positional argument will be `data`, and passing other arguments without an explicit keyword will result in an error or misinterpretation.\n",
      "  FutureWarning\n"
     ]
    },
    {
     "data": {
      "text/plain": [
       "<AxesSubplot:xlabel='LastPromotion'>"
      ]
     },
     "execution_count": 1080,
     "metadata": {},
     "output_type": "execute_result"
    },
    {
     "data": {
      "image/png": "[encoded data removed]",
      "text/plain": [
       "<Figure size 432x288 with 1 Axes>"
      ]
     },
     "metadata": {
      "needs_background": "light"
     },
     "output_type": "display_data"
    }
   ],
   "source": [
    "sns.boxplot(df_employee_test['LastPromotion'])"
   ]
  },
  {
   "cell_type": "code",
   "execution_count": 1081,
   "id": "b75cd537",
   "metadata": {},
   "outputs": [
    {
     "name": "stderr",
     "output_type": "stream",
     "text": [
      "C:\\Users\\Anaconda\\envs\\py3.7.5\\lib\\site-packages\\seaborn\\_decorators.py:43: FutureWarning: Pass the following variable as a keyword arg: x. From version 0.12, the only valid positional argument will be `data`, and passing other arguments without an explicit keyword will result in an error or misinterpretation.\n",
      "  FutureWarning\n"
     ]
    },
    {
     "data": {
      "text/plain": [
       "<AxesSubplot:xlabel='CurrentProfile'>"
      ]
     },
     "execution_count": 1081,
     "metadata": {},
     "output_type": "execute_result"
    },
    {
     "data": {
      "image/png": "[encoded data removed]",
      "text/plain": [
       "<Figure size 432x288 with 1 Axes>"
      ]
     },
     "metadata": {
      "needs_background": "light"
     },
     "output_type": "display_data"
    }
   ],
   "source": [
    "sns.boxplot(df_employee_test['CurrentProfile'])"
   ]
  },
  {
   "cell_type": "code",
   "execution_count": 1082,
   "id": "cc7a9763",
   "metadata": {},
   "outputs": [
    {
     "data": {
      "text/plain": [
       "13.0"
      ]
     },
     "execution_count": 1082,
     "metadata": {},
     "output_type": "execute_result"
    }
   ],
   "source": [
    "df_employee_test['CurrentProfile'].quantile(.98)"
   ]
  },
  {
   "cell_type": "code",
   "execution_count": 1083,
   "id": "df430c24",
   "metadata": {},
   "outputs": [],
   "source": [
    "df_employee_test.loc[df_employee_test['CurrentProfile']>df_employee_test['CurrentProfile'].quantile(.98),'CurrentProfile'] = df_employee_test['CurrentProfile'].quantile(.98)"
   ]
  },
  {
   "cell_type": "code",
   "execution_count": 1084,
   "id": "dc0e3a1e",
   "metadata": {},
   "outputs": [
    {
     "name": "stderr",
     "output_type": "stream",
     "text": [
      "C:\\Users\\Anaconda\\envs\\py3.7.5\\lib\\site-packages\\seaborn\\_decorators.py:43: FutureWarning: Pass the following variable as a keyword arg: x. From version 0.12, the only valid positional argument will be `data`, and passing other arguments without an explicit keyword will result in an error or misinterpretation.\n",
      "  FutureWarning\n"
     ]
    },
    {
     "data": {
      "text/plain": [
       "<AxesSubplot:xlabel='CurrentProfile'>"
      ]
     },
     "execution_count": 1084,
     "metadata": {},
     "output_type": "execute_result"
    },
    {
     "data": {
      "image/png": "[encoded data removed]",
      "text/plain": [
       "<Figure size 432x288 with 1 Axes>"
      ]
     },
     "metadata": {
      "needs_background": "light"
     },
     "output_type": "display_data"
    }
   ],
   "source": [
    "sns.boxplot(df_employee_test['CurrentProfile'])"
   ]
  },
  {
   "cell_type": "code",
   "execution_count": 1085,
   "id": "2246b579",
   "metadata": {},
   "outputs": [
    {
     "name": "stderr",
     "output_type": "stream",
     "text": [
      "C:\\Users\\Anaconda\\envs\\py3.7.5\\lib\\site-packages\\seaborn\\_decorators.py:43: FutureWarning: Pass the following variable as a keyword arg: x. From version 0.12, the only valid positional argument will be `data`, and passing other arguments without an explicit keyword will result in an error or misinterpretation.\n",
      "  FutureWarning\n"
     ]
    },
    {
     "data": {
      "text/plain": [
       "<AxesSubplot:xlabel='MonthlyIncome'>"
      ]
     },
     "execution_count": 1085,
     "metadata": {},
     "output_type": "execute_result"
    },
    {
     "data": {
      "image/png": "[encoded data removed]",
      "text/plain": [
       "<Figure size 432x288 with 1 Axes>"
      ]
     },
     "metadata": {
      "needs_background": "light"
     },
     "output_type": "display_data"
    }
   ],
   "source": [
    "sns.boxplot(df_employee_test['MonthlyIncome'])"
   ]
  },
  {
   "cell_type": "code",
   "execution_count": 1086,
   "id": "e772d7bb",
   "metadata": {},
   "outputs": [],
   "source": [
    "df_employee_test.loc[df_employee_test['MonthlyIncome']>df_employee_test['MonthlyIncome'].quantile(.94),'MonthlyIncome'] = df_employee_test['MonthlyIncome'].quantile(.94)"
   ]
  },
  {
   "cell_type": "code",
   "execution_count": 1087,
   "id": "6e44da39",
   "metadata": {},
   "outputs": [
    {
     "name": "stderr",
     "output_type": "stream",
     "text": [
      "C:\\Users\\Anaconda\\envs\\py3.7.5\\lib\\site-packages\\seaborn\\_decorators.py:43: FutureWarning: Pass the following variable as a keyword arg: x. From version 0.12, the only valid positional argument will be `data`, and passing other arguments without an explicit keyword will result in an error or misinterpretation.\n",
      "  FutureWarning\n"
     ]
    },
    {
     "data": {
      "text/plain": [
       "<AxesSubplot:xlabel='MonthlyIncome'>"
      ]
     },
     "execution_count": 1087,
     "metadata": {},
     "output_type": "execute_result"
    },
    {
     "data": {
      "image/png": "[encoded data removed]",
      "text/plain": [
       "<Figure size 432x288 with 1 Axes>"
      ]
     },
     "metadata": {
      "needs_background": "light"
     },
     "output_type": "display_data"
    }
   ],
   "source": [
    "sns.boxplot(df_employee_test['MonthlyIncome'])"
   ]
  },
  {
   "cell_type": "code",
   "execution_count": 1088,
   "id": "1db8060d",
   "metadata": {},
   "outputs": [],
   "source": [
    "df_employee_test.loc[df_employee_test['MonthlyIncome']>df_employee_test['MonthlyIncome'].quantile(.92),'MonthlyIncome'] = df_employee_test['MonthlyIncome'].quantile(.92)"
   ]
  },
  {
   "cell_type": "code",
   "execution_count": 1089,
   "id": "0a6a12ce",
   "metadata": {},
   "outputs": [
    {
     "name": "stderr",
     "output_type": "stream",
     "text": [
      "C:\\Users\\Anaconda\\envs\\py3.7.5\\lib\\site-packages\\seaborn\\_decorators.py:43: FutureWarning: Pass the following variable as a keyword arg: x. From version 0.12, the only valid positional argument will be `data`, and passing other arguments without an explicit keyword will result in an error or misinterpretation.\n",
      "  FutureWarning\n"
     ]
    },
    {
     "data": {
      "text/plain": [
       "<AxesSubplot:xlabel='MonthlyIncome'>"
      ]
     },
     "execution_count": 1089,
     "metadata": {},
     "output_type": "execute_result"
    },
    {
     "data": {
      "image/png": "[encoded data removed]",
      "text/plain": [
       "<Figure size 432x288 with 1 Axes>"
      ]
     },
     "metadata": {
      "needs_background": "light"
     },
     "output_type": "display_data"
    }
   ],
   "source": [
    "sns.boxplot(df_employee_test['MonthlyIncome'])"
   ]
  },
  {
   "cell_type": "code",
   "execution_count": 1090,
   "id": "dbeb8503",
   "metadata": {},
   "outputs": [
    {
     "data": {
      "text/plain": [
       "(2630, 21)"
      ]
     },
     "execution_count": 1090,
     "metadata": {},
     "output_type": "execute_result"
    }
   ],
   "source": [
    "df_employee_test.shape"
   ]
  },
  {
   "cell_type": "code",
   "execution_count": 1091,
   "id": "a3929e74",
   "metadata": {},
   "outputs": [
    {
     "data": {
      "text/html": [
       "<div>\n",
       "<style scoped>\n",
       "    .dataframe tbody tr th:only-of-type {\n",
       "        vertical-align: middle;\n",
       "    }\n",
       "\n",
       "    .dataframe tbody tr th {\n",
       "        vertical-align: top;\n",
       "    }\n",
       "\n",
       "    .dataframe thead th {\n",
       "        text-align: right;\n",
       "    }\n",
       "</style>\n",
       "<table border=\"1\" class=\"dataframe\">\n",
       "  <thead>\n",
       "    <tr style=\"text-align: right;\">\n",
       "      <th></th>\n",
       "      <th>EmployeeID</th>\n",
       "      <th>Age</th>\n",
       "      <th>TravelProfile</th>\n",
       "      <th>Department</th>\n",
       "      <th>HomeToWork</th>\n",
       "      <th>EducationField</th>\n",
       "      <th>Gender</th>\n",
       "      <th>HourlnWeek</th>\n",
       "      <th>Involvement</th>\n",
       "      <th>WorkLifeBalance</th>\n",
       "      <th>...</th>\n",
       "      <th>JobSatisfaction</th>\n",
       "      <th>ESOPs</th>\n",
       "      <th>NumCompaniesWorked</th>\n",
       "      <th>OverTime</th>\n",
       "      <th>SalaryHikelastYear</th>\n",
       "      <th>WorkExperience</th>\n",
       "      <th>LastPromotion</th>\n",
       "      <th>CurrentProfile</th>\n",
       "      <th>MaritalStatus</th>\n",
       "      <th>MonthlyIncome</th>\n",
       "    </tr>\n",
       "  </thead>\n",
       "  <tbody>\n",
       "    <tr>\n",
       "      <th>0</th>\n",
       "      <td>6110001</td>\n",
       "      <td>18.0</td>\n",
       "      <td>No</td>\n",
       "      <td>Analytics</td>\n",
       "      <td>9.0</td>\n",
       "      <td>CA</td>\n",
       "      <td>M</td>\n",
       "      <td>80.0</td>\n",
       "      <td>3</td>\n",
       "      <td>2</td>\n",
       "      <td>...</td>\n",
       "      <td>3</td>\n",
       "      <td>1</td>\n",
       "      <td>1.0</td>\n",
       "      <td>0</td>\n",
       "      <td>17.0</td>\n",
       "      <td>0.0</td>\n",
       "      <td>0.0</td>\n",
       "      <td>0.0</td>\n",
       "      <td>Single</td>\n",
       "      <td>16904.0</td>\n",
       "    </tr>\n",
       "    <tr>\n",
       "      <th>1</th>\n",
       "      <td>6110002</td>\n",
       "      <td>20.0</td>\n",
       "      <td>Rarely</td>\n",
       "      <td>Analytics</td>\n",
       "      <td>28.0</td>\n",
       "      <td>Statistics</td>\n",
       "      <td>F</td>\n",
       "      <td>59.0</td>\n",
       "      <td>2</td>\n",
       "      <td>3</td>\n",
       "      <td>...</td>\n",
       "      <td>1</td>\n",
       "      <td>1</td>\n",
       "      <td>2.0</td>\n",
       "      <td>1</td>\n",
       "      <td>18.0</td>\n",
       "      <td>2.0</td>\n",
       "      <td>1.0</td>\n",
       "      <td>3.0</td>\n",
       "      <td>Single</td>\n",
       "      <td>18994.0</td>\n",
       "    </tr>\n",
       "    <tr>\n",
       "      <th>2</th>\n",
       "      <td>6110003</td>\n",
       "      <td>50.0</td>\n",
       "      <td>Rarely</td>\n",
       "      <td>Analytics</td>\n",
       "      <td>19.0</td>\n",
       "      <td>CA</td>\n",
       "      <td>F</td>\n",
       "      <td>76.0</td>\n",
       "      <td>3</td>\n",
       "      <td>3</td>\n",
       "      <td>...</td>\n",
       "      <td>5</td>\n",
       "      <td>0</td>\n",
       "      <td>5.0</td>\n",
       "      <td>1</td>\n",
       "      <td>22.0</td>\n",
       "      <td>18.0</td>\n",
       "      <td>3.0</td>\n",
       "      <td>3.0</td>\n",
       "      <td>Married</td>\n",
       "      <td>18587.0</td>\n",
       "    </tr>\n",
       "    <tr>\n",
       "      <th>3</th>\n",
       "      <td>6110004</td>\n",
       "      <td>32.0</td>\n",
       "      <td>Rarely</td>\n",
       "      <td>Sales</td>\n",
       "      <td>23.0</td>\n",
       "      <td>Statistics</td>\n",
       "      <td>F</td>\n",
       "      <td>73.0</td>\n",
       "      <td>5</td>\n",
       "      <td>2</td>\n",
       "      <td>...</td>\n",
       "      <td>3</td>\n",
       "      <td>0</td>\n",
       "      <td>4.0</td>\n",
       "      <td>1</td>\n",
       "      <td>17.0</td>\n",
       "      <td>5.0</td>\n",
       "      <td>3.0</td>\n",
       "      <td>3.0</td>\n",
       "      <td>Married</td>\n",
       "      <td>20559.0</td>\n",
       "    </tr>\n",
       "    <tr>\n",
       "      <th>4</th>\n",
       "      <td>6110005</td>\n",
       "      <td>39.0</td>\n",
       "      <td>Rarely</td>\n",
       "      <td>Analytics</td>\n",
       "      <td>7.0</td>\n",
       "      <td>CA</td>\n",
       "      <td>M</td>\n",
       "      <td>42.0</td>\n",
       "      <td>4</td>\n",
       "      <td>1</td>\n",
       "      <td>...</td>\n",
       "      <td>5</td>\n",
       "      <td>1</td>\n",
       "      <td>4.0</td>\n",
       "      <td>0</td>\n",
       "      <td>20.0</td>\n",
       "      <td>9.0</td>\n",
       "      <td>1.0</td>\n",
       "      <td>7.0</td>\n",
       "      <td>Married</td>\n",
       "      <td>24991.0</td>\n",
       "    </tr>\n",
       "  </tbody>\n",
       "</table>\n",
       "<p>5 rows × 21 columns</p>\n",
       "</div>"
      ],
      "text/plain": [
       "   EmployeeID   Age TravelProfile Department  HomeToWork EducationField  \\\n",
       "0     6110001  18.0            No  Analytics         9.0             CA   \n",
       "1     6110002  20.0        Rarely  Analytics        28.0     Statistics   \n",
       "2     6110003  50.0        Rarely  Analytics        19.0             CA   \n",
       "3     6110004  32.0        Rarely      Sales        23.0     Statistics   \n",
       "4     6110005  39.0        Rarely  Analytics         7.0             CA   \n",
       "\n",
       "  Gender  HourlnWeek  Involvement  WorkLifeBalance  ... JobSatisfaction  \\\n",
       "0      M        80.0            3                2  ...               3   \n",
       "1      F        59.0            2                3  ...               1   \n",
       "2      F        76.0            3                3  ...               5   \n",
       "3      F        73.0            5                2  ...               3   \n",
       "4      M        42.0            4                1  ...               5   \n",
       "\n",
       "   ESOPs  NumCompaniesWorked  OverTime  SalaryHikelastYear  WorkExperience  \\\n",
       "0      1                 1.0         0                17.0             0.0   \n",
       "1      1                 2.0         1                18.0             2.0   \n",
       "2      0                 5.0         1                22.0            18.0   \n",
       "3      0                 4.0         1                17.0             5.0   \n",
       "4      1                 4.0         0                20.0             9.0   \n",
       "\n",
       "   LastPromotion  CurrentProfile  MaritalStatus MonthlyIncome  \n",
       "0            0.0             0.0         Single       16904.0  \n",
       "1            1.0             3.0         Single       18994.0  \n",
       "2            3.0             3.0        Married       18587.0  \n",
       "3            3.0             3.0        Married       20559.0  \n",
       "4            1.0             7.0        Married       24991.0  \n",
       "\n",
       "[5 rows x 21 columns]"
      ]
     },
     "execution_count": 1091,
     "metadata": {},
     "output_type": "execute_result"
    }
   ],
   "source": [
    "df_employee_test.head()"
   ]
  },
  {
   "cell_type": "markdown",
   "id": "4b4f9f63",
   "metadata": {},
   "source": [
    "Let's convert the object into numerical types for proper model training"
   ]
  },
  {
   "cell_type": "code",
   "execution_count": 1092,
   "id": "cd4e9098",
   "metadata": {},
   "outputs": [],
   "source": [
    "df_features_test = df_employee_test"
   ]
  },
  {
   "cell_type": "code",
   "execution_count": 1093,
   "id": "db6b6f19",
   "metadata": {},
   "outputs": [],
   "source": [
    "df_cat_test = df_features_test.select_dtypes(include=np.object)"
   ]
  },
  {
   "cell_type": "code",
   "execution_count": 1094,
   "id": "a44594c9",
   "metadata": {},
   "outputs": [],
   "source": [
    "df_features_cat_test = pd.get_dummies(data = df_cat_test, drop_first = True)"
   ]
  },
  {
   "cell_type": "code",
   "execution_count": 1095,
   "id": "468f295f",
   "metadata": {},
   "outputs": [
    {
     "data": {
      "text/plain": [
       "Index(['TravelProfile_Rarely', 'TravelProfile_Yes', 'Department_Marketing',\n",
       "       'Department_Sales', 'EducationField_Engineer', 'EducationField_MBA',\n",
       "       'EducationField_Marketing Diploma', 'EducationField_Other',\n",
       "       'EducationField_Statistics', 'Gender_M', 'Designation_Executive',\n",
       "       'Designation_Manager', 'Designation_Senior Manager', 'Designation_VP',\n",
       "       'MaritalStatus_Married', 'MaritalStatus_Single'],\n",
       "      dtype='object')"
      ]
     },
     "execution_count": 1095,
     "metadata": {},
     "output_type": "execute_result"
    }
   ],
   "source": [
    "df_features_cat_test.columns"
   ]
  },
  {
   "cell_type": "code",
   "execution_count": 1096,
   "id": "5adcc2eb",
   "metadata": {},
   "outputs": [
    {
     "data": {
      "text/plain": [
       "Index(['EmployeeID', 'Age', 'HomeToWork', 'HourlnWeek', 'Involvement',\n",
       "       'WorkLifeBalance', 'JobSatisfaction', 'ESOPs', 'NumCompaniesWorked',\n",
       "       'OverTime', 'SalaryHikelastYear', 'WorkExperience', 'LastPromotion',\n",
       "       'CurrentProfile', 'MonthlyIncome'],\n",
       "      dtype='object')"
      ]
     },
     "execution_count": 1096,
     "metadata": {},
     "output_type": "execute_result"
    }
   ],
   "source": [
    "df_num_test = df_features_test.select_dtypes(include = [np.number])\n",
    "df_num_test.columns"
   ]
  },
  {
   "cell_type": "code",
   "execution_count": 1097,
   "id": "5378dc54",
   "metadata": {},
   "outputs": [
    {
     "data": {
      "text/html": [
       "<div>\n",
       "<style scoped>\n",
       "    .dataframe tbody tr th:only-of-type {\n",
       "        vertical-align: middle;\n",
       "    }\n",
       "\n",
       "    .dataframe tbody tr th {\n",
       "        vertical-align: top;\n",
       "    }\n",
       "\n",
       "    .dataframe thead th {\n",
       "        text-align: right;\n",
       "    }\n",
       "</style>\n",
       "<table border=\"1\" class=\"dataframe\">\n",
       "  <thead>\n",
       "    <tr style=\"text-align: right;\">\n",
       "      <th></th>\n",
       "      <th>EmployeeID</th>\n",
       "      <th>Age</th>\n",
       "      <th>HomeToWork</th>\n",
       "      <th>HourlnWeek</th>\n",
       "      <th>Involvement</th>\n",
       "      <th>WorkLifeBalance</th>\n",
       "      <th>JobSatisfaction</th>\n",
       "      <th>ESOPs</th>\n",
       "      <th>NumCompaniesWorked</th>\n",
       "      <th>OverTime</th>\n",
       "      <th>...</th>\n",
       "      <th>EducationField_Marketing Diploma</th>\n",
       "      <th>EducationField_Other</th>\n",
       "      <th>EducationField_Statistics</th>\n",
       "      <th>Gender_M</th>\n",
       "      <th>Designation_Executive</th>\n",
       "      <th>Designation_Manager</th>\n",
       "      <th>Designation_Senior Manager</th>\n",
       "      <th>Designation_VP</th>\n",
       "      <th>MaritalStatus_Married</th>\n",
       "      <th>MaritalStatus_Single</th>\n",
       "    </tr>\n",
       "  </thead>\n",
       "  <tbody>\n",
       "    <tr>\n",
       "      <th>0</th>\n",
       "      <td>6110001</td>\n",
       "      <td>18.0</td>\n",
       "      <td>9.0</td>\n",
       "      <td>80.0</td>\n",
       "      <td>3</td>\n",
       "      <td>2</td>\n",
       "      <td>3</td>\n",
       "      <td>1</td>\n",
       "      <td>1.0</td>\n",
       "      <td>0</td>\n",
       "      <td>...</td>\n",
       "      <td>0</td>\n",
       "      <td>0</td>\n",
       "      <td>0</td>\n",
       "      <td>1</td>\n",
       "      <td>1</td>\n",
       "      <td>0</td>\n",
       "      <td>0</td>\n",
       "      <td>0</td>\n",
       "      <td>0</td>\n",
       "      <td>1</td>\n",
       "    </tr>\n",
       "    <tr>\n",
       "      <th>1</th>\n",
       "      <td>6110002</td>\n",
       "      <td>20.0</td>\n",
       "      <td>28.0</td>\n",
       "      <td>59.0</td>\n",
       "      <td>2</td>\n",
       "      <td>3</td>\n",
       "      <td>1</td>\n",
       "      <td>1</td>\n",
       "      <td>2.0</td>\n",
       "      <td>1</td>\n",
       "      <td>...</td>\n",
       "      <td>0</td>\n",
       "      <td>0</td>\n",
       "      <td>1</td>\n",
       "      <td>0</td>\n",
       "      <td>1</td>\n",
       "      <td>0</td>\n",
       "      <td>0</td>\n",
       "      <td>0</td>\n",
       "      <td>0</td>\n",
       "      <td>1</td>\n",
       "    </tr>\n",
       "    <tr>\n",
       "      <th>2</th>\n",
       "      <td>6110003</td>\n",
       "      <td>50.0</td>\n",
       "      <td>19.0</td>\n",
       "      <td>76.0</td>\n",
       "      <td>3</td>\n",
       "      <td>3</td>\n",
       "      <td>5</td>\n",
       "      <td>0</td>\n",
       "      <td>5.0</td>\n",
       "      <td>1</td>\n",
       "      <td>...</td>\n",
       "      <td>0</td>\n",
       "      <td>0</td>\n",
       "      <td>0</td>\n",
       "      <td>0</td>\n",
       "      <td>1</td>\n",
       "      <td>0</td>\n",
       "      <td>0</td>\n",
       "      <td>0</td>\n",
       "      <td>1</td>\n",
       "      <td>0</td>\n",
       "    </tr>\n",
       "    <tr>\n",
       "      <th>3</th>\n",
       "      <td>6110004</td>\n",
       "      <td>32.0</td>\n",
       "      <td>23.0</td>\n",
       "      <td>73.0</td>\n",
       "      <td>5</td>\n",
       "      <td>2</td>\n",
       "      <td>3</td>\n",
       "      <td>0</td>\n",
       "      <td>4.0</td>\n",
       "      <td>1</td>\n",
       "      <td>...</td>\n",
       "      <td>0</td>\n",
       "      <td>0</td>\n",
       "      <td>1</td>\n",
       "      <td>0</td>\n",
       "      <td>0</td>\n",
       "      <td>1</td>\n",
       "      <td>0</td>\n",
       "      <td>0</td>\n",
       "      <td>1</td>\n",
       "      <td>0</td>\n",
       "    </tr>\n",
       "    <tr>\n",
       "      <th>4</th>\n",
       "      <td>6110005</td>\n",
       "      <td>39.0</td>\n",
       "      <td>7.0</td>\n",
       "      <td>42.0</td>\n",
       "      <td>4</td>\n",
       "      <td>1</td>\n",
       "      <td>5</td>\n",
       "      <td>1</td>\n",
       "      <td>4.0</td>\n",
       "      <td>0</td>\n",
       "      <td>...</td>\n",
       "      <td>0</td>\n",
       "      <td>0</td>\n",
       "      <td>0</td>\n",
       "      <td>1</td>\n",
       "      <td>0</td>\n",
       "      <td>0</td>\n",
       "      <td>1</td>\n",
       "      <td>0</td>\n",
       "      <td>1</td>\n",
       "      <td>0</td>\n",
       "    </tr>\n",
       "  </tbody>\n",
       "</table>\n",
       "<p>5 rows × 31 columns</p>\n",
       "</div>"
      ],
      "text/plain": [
       "   EmployeeID   Age  HomeToWork  HourlnWeek  Involvement  WorkLifeBalance  \\\n",
       "0     6110001  18.0         9.0        80.0            3                2   \n",
       "1     6110002  20.0        28.0        59.0            2                3   \n",
       "2     6110003  50.0        19.0        76.0            3                3   \n",
       "3     6110004  32.0        23.0        73.0            5                2   \n",
       "4     6110005  39.0         7.0        42.0            4                1   \n",
       "\n",
       "   JobSatisfaction  ESOPs  NumCompaniesWorked  OverTime  ...  \\\n",
       "0                3      1                 1.0         0  ...   \n",
       "1                1      1                 2.0         1  ...   \n",
       "2                5      0                 5.0         1  ...   \n",
       "3                3      0                 4.0         1  ...   \n",
       "4                5      1                 4.0         0  ...   \n",
       "\n",
       "   EducationField_Marketing Diploma  EducationField_Other  \\\n",
       "0                                 0                     0   \n",
       "1                                 0                     0   \n",
       "2                                 0                     0   \n",
       "3                                 0                     0   \n",
       "4                                 0                     0   \n",
       "\n",
       "   EducationField_Statistics  Gender_M  Designation_Executive  \\\n",
       "0                          0         1                      1   \n",
       "1                          1         0                      1   \n",
       "2                          0         0                      1   \n",
       "3                          1         0                      0   \n",
       "4                          0         1                      0   \n",
       "\n",
       "   Designation_Manager  Designation_Senior Manager  Designation_VP  \\\n",
       "0                    0                           0               0   \n",
       "1                    0                           0               0   \n",
       "2                    0                           0               0   \n",
       "3                    1                           0               0   \n",
       "4                    0                           1               0   \n",
       "\n",
       "   MaritalStatus_Married  MaritalStatus_Single  \n",
       "0                      0                     1  \n",
       "1                      0                     1  \n",
       "2                      1                     0  \n",
       "3                      1                     0  \n",
       "4                      1                     0  \n",
       "\n",
       "[5 rows x 31 columns]"
      ]
     },
     "execution_count": 1097,
     "metadata": {},
     "output_type": "execute_result"
    }
   ],
   "source": [
    "X_test = pd.concat([df_num_test, df_features_cat_test], axis = 1)\n",
    "X_test.head()"
   ]
  },
  {
   "cell_type": "code",
   "execution_count": 1098,
   "id": "c540d473",
   "metadata": {},
   "outputs": [
    {
     "data": {
      "text/plain": [
       "(2630, 31)"
      ]
     },
     "execution_count": 1098,
     "metadata": {},
     "output_type": "execute_result"
    }
   ],
   "source": [
    "X_test.shape"
   ]
  },
  {
   "cell_type": "markdown",
   "id": "046bf27a",
   "metadata": {},
   "source": [
    "Let's remove employee id from X"
   ]
  },
  {
   "cell_type": "code",
   "execution_count": 1099,
   "id": "dab9393c",
   "metadata": {},
   "outputs": [],
   "source": [
    "X_test = X_test.drop('EmployeeID',axis=1)"
   ]
  },
  {
   "cell_type": "code",
   "execution_count": 1100,
   "id": "9d8399cd",
   "metadata": {},
   "outputs": [
    {
     "data": {
      "text/plain": [
       "(2630, 30)"
      ]
     },
     "execution_count": 1100,
     "metadata": {},
     "output_type": "execute_result"
    }
   ],
   "source": [
    "X_test.shape"
   ]
  },
  {
   "cell_type": "code",
   "execution_count": 1101,
   "id": "41ef6572",
   "metadata": {},
   "outputs": [],
   "source": [
    "gdb_best = GradientBoostingClassifier(learning_rate= 0.1, max_depth= 15, n_estimators= 13)"
   ]
  },
  {
   "cell_type": "code",
   "execution_count": 1102,
   "id": "bced4ace",
   "metadata": {},
   "outputs": [
    {
     "data": {
      "text/plain": [
       "GradientBoostingClassifier(max_depth=15, n_estimators=13)"
      ]
     },
     "execution_count": 1102,
     "metadata": {},
     "output_type": "execute_result"
    }
   ],
   "source": [
    "gdb_best.fit(X,Y)"
   ]
  },
  {
   "cell_type": "code",
   "execution_count": 1103,
   "id": "3c0ca67e",
   "metadata": {},
   "outputs": [],
   "source": [
    "Y_pred = gdb_best.predict(X_test)"
   ]
  },
  {
   "cell_type": "code",
   "execution_count": 1106,
   "id": "b54f0f57",
   "metadata": {},
   "outputs": [
    {
     "data": {
      "text/plain": [
       "(2630,)"
      ]
     },
     "execution_count": 1106,
     "metadata": {},
     "output_type": "execute_result"
    }
   ],
   "source": [
    "Y_pred.shape"
   ]
  },
  {
   "cell_type": "code",
   "execution_count": 1110,
   "id": "5fdb578b",
   "metadata": {},
   "outputs": [],
   "source": [
    "pd.DataFrame(Y_pred).to_csv('SourabhKumar_Submission.csv', index_label = \"Index\", header  = ['Attrition'])"
   ]
  },
  {
   "cell_type": "code",
   "execution_count": null,
   "id": "1dd8f632",
   "metadata": {},
   "outputs": [],
   "source": []
  }
 ],
 "metadata": {
  "kernelspec": {
   "display_name": "Python 3",
   "language": "python",
   "name": "python3"
  },
  "language_info": {
   "codemirror_mode": {
    "name": "ipython",
    "version": 3
   },
   "file_extension": ".py",
   "mimetype": "text/x-python",
   "name": "python",
   "nbconvert_exporter": "python",
   "pygments_lexer": "ipython3",
   "version": "3.7.5"
  }
 },
 "nbformat": 4,
 "nbformat_minor": 5
}
